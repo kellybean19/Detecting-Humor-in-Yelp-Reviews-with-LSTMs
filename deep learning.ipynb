{
 "cells": [
  {
   "cell_type": "code",
   "execution_count": 9,
   "id": "89250ff3",
   "metadata": {},
   "outputs": [],
   "source": [
    "import pandas as pd\n",
    "import numpy as np\n",
    "import matplotlib.pyplot as plt\n",
    "import seaborn as sns\n",
    "plt.style.use(\"ggplot\")\n",
    "%matplotlib inline\n",
    "\n",
    "import string\n",
    "import unicodedata\n",
    "\n",
    "import json\n",
    "import nltk\n",
    "from collections import Counter\n",
    "\n",
    "from nltk.tokenize import sent_tokenize\n",
    "from nltk.tokenize import word_tokenize\n",
    "from nltk.corpus import stopwords\n",
    "from nltk.stem.porter import PorterStemmer\n",
    "from nltk.stem.snowball import SnowballStemmer\n",
    "from nltk.util import ngrams\n",
    "\n",
    "from sklearn.model_selection import train_test_split, KFold\n",
    "from sklearn.preprocessing import StandardScaler\n",
    "from sklearn.feature_extraction.text import CountVectorizer, TfidfVectorizer\n",
    "from sklearn.linear_model import LogisticRegression\n",
    "from sklearn.ensemble import RandomForestClassifier, GradientBoostingClassifier\n",
    "from sklearn.naive_bayes import MultinomialNB\n",
    "from sklearn.metrics import confusion_matrix, precision_score, recall_score, accuracy_score, roc_curve, auc\n",
    "\n",
    "import tensorflow as tf\n",
    "from tensorflow import keras\n",
    "from keras.preprocessing.text import Tokenizer\n",
    "from keras.preprocessing.sequence import pad_sequences\n",
    "from tensorflow.keras.optimizers import Adam\n",
    "from tensorflow.keras.models import Sequential\n",
    "from tensorflow.keras.layers import Dense, Embedding, LSTM, SpatialDropout1D, Bidirectional\n",
    "from tensorflow.keras.callbacks import EarlyStopping"
   ]
  },
  {
   "cell_type": "code",
   "execution_count": 10,
   "id": "521ab5e0",
   "metadata": {},
   "outputs": [],
   "source": [
    "# read in full df\n",
    "reviews_df = pd.read_pickle(\"./data/final_reviews.pkl\")"
   ]
  },
  {
   "cell_type": "code",
   "execution_count": 11,
   "id": "a19a91f2",
   "metadata": {},
   "outputs": [
    {
     "data": {
      "text/html": [
       "<div>\n",
       "<style scoped>\n",
       "    .dataframe tbody tr th:only-of-type {\n",
       "        vertical-align: middle;\n",
       "    }\n",
       "\n",
       "    .dataframe tbody tr th {\n",
       "        vertical-align: top;\n",
       "    }\n",
       "\n",
       "    .dataframe thead th {\n",
       "        text-align: right;\n",
       "    }\n",
       "</style>\n",
       "<table border=\"1\" class=\"dataframe\">\n",
       "  <thead>\n",
       "    <tr style=\"text-align: right;\">\n",
       "      <th></th>\n",
       "      <th>text</th>\n",
       "      <th>funny or not</th>\n",
       "    </tr>\n",
       "  </thead>\n",
       "  <tbody>\n",
       "    <tr>\n",
       "      <th>0</th>\n",
       "      <td>Apparently Prides Osteria had a rough summer a...</td>\n",
       "      <td>0</td>\n",
       "    </tr>\n",
       "    <tr>\n",
       "      <th>1</th>\n",
       "      <td>This store is pretty good. Not as great as Wal...</td>\n",
       "      <td>0</td>\n",
       "    </tr>\n",
       "    <tr>\n",
       "      <th>2</th>\n",
       "      <td>I called WVM on the recommendation of a couple...</td>\n",
       "      <td>0</td>\n",
       "    </tr>\n",
       "    <tr>\n",
       "      <th>3</th>\n",
       "      <td>I've stayed at many Marriott and Renaissance M...</td>\n",
       "      <td>0</td>\n",
       "    </tr>\n",
       "    <tr>\n",
       "      <th>4</th>\n",
       "      <td>The food is always great here. The service fro...</td>\n",
       "      <td>0</td>\n",
       "    </tr>\n",
       "    <tr>\n",
       "      <th>...</th>\n",
       "      <td>...</td>\n",
       "      <td>...</td>\n",
       "    </tr>\n",
       "    <tr>\n",
       "      <th>8635398</th>\n",
       "      <td>In December, I called in (as a returning custo...</td>\n",
       "      <td>0</td>\n",
       "    </tr>\n",
       "    <tr>\n",
       "      <th>8635399</th>\n",
       "      <td>This guy is a moron that will stalk and harass...</td>\n",
       "      <td>0</td>\n",
       "    </tr>\n",
       "    <tr>\n",
       "      <th>8635400</th>\n",
       "      <td>Yummy, great chew on the bagel\\nFriendly staff...</td>\n",
       "      <td>1</td>\n",
       "    </tr>\n",
       "    <tr>\n",
       "      <th>8635401</th>\n",
       "      <td>This used to be my car wash of choice. They di...</td>\n",
       "      <td>0</td>\n",
       "    </tr>\n",
       "    <tr>\n",
       "      <th>8635402</th>\n",
       "      <td>This is so highly rated for a reason. If you'r...</td>\n",
       "      <td>1</td>\n",
       "    </tr>\n",
       "  </tbody>\n",
       "</table>\n",
       "<p>8635403 rows × 2 columns</p>\n",
       "</div>"
      ],
      "text/plain": [
       "                                                      text  funny or not\n",
       "0        Apparently Prides Osteria had a rough summer a...             0\n",
       "1        This store is pretty good. Not as great as Wal...             0\n",
       "2        I called WVM on the recommendation of a couple...             0\n",
       "3        I've stayed at many Marriott and Renaissance M...             0\n",
       "4        The food is always great here. The service fro...             0\n",
       "...                                                    ...           ...\n",
       "8635398  In December, I called in (as a returning custo...             0\n",
       "8635399  This guy is a moron that will stalk and harass...             0\n",
       "8635400  Yummy, great chew on the bagel\\nFriendly staff...             1\n",
       "8635401  This used to be my car wash of choice. They di...             0\n",
       "8635402  This is so highly rated for a reason. If you'r...             1\n",
       "\n",
       "[8635403 rows x 2 columns]"
      ]
     },
     "execution_count": 11,
     "metadata": {},
     "output_type": "execute_result"
    }
   ],
   "source": [
    "reviews_df"
   ]
  },
  {
   "cell_type": "markdown",
   "id": "376db01d",
   "metadata": {},
   "source": [
    "### Text Pre-processing"
   ]
  },
  {
   "cell_type": "code",
   "execution_count": 12,
   "id": "d096ab97",
   "metadata": {},
   "outputs": [],
   "source": [
    "import re\n",
    "\n",
    "REPLACE_BY_SPACE_RE = re.compile('[/{}\\[\\]\\|@]')\n",
    "\n",
    "BAD_SYMBOLS_RE = re.compile('[^0-9a-z #+_]')"
   ]
  },
  {
   "cell_type": "code",
   "execution_count": 13,
   "id": "08f10c41",
   "metadata": {},
   "outputs": [],
   "source": [
    "## function for cleaning text\n",
    "\n",
    "def clean_text(text):\n",
    "    \"\"\"\n",
    "        text: a string\n",
    "        \n",
    "        return: modified initial string\n",
    "    \"\"\"\n",
    "    # text = text.lower() # lowercase text\n",
    "    text = REPLACE_BY_SPACE_RE.sub(' ', text) # replace REPLACE_BY_SPACE_RE symbols by space in text. substitute the matched string in REPLACE_BY_SPACE_RE with space.\n",
    "    # text = BAD_SYMBOLS_RE.sub('', text) # remove symbols which are in BAD_SYMBOLS_RE from text. substitute the matched string in BAD_SYMBOLS_RE with nothing. \n",
    "    text = text.replace('\\n', '')\n",
    "    # text = re.sub(r'\\W+', '', text)\n",
    "    # text = ' '.join(word for word in text.split() if word not in STOPWORDS) # remove stopwords from text\n",
    "    return text"
   ]
  },
  {
   "cell_type": "code",
   "execution_count": 14,
   "id": "bca16494",
   "metadata": {},
   "outputs": [],
   "source": [
    "reviews_df.text = reviews_df.text.apply(clean_text)"
   ]
  },
  {
   "cell_type": "code",
   "execution_count": 20,
   "id": "73dd7008",
   "metadata": {},
   "outputs": [
    {
     "data": {
      "text/plain": [
       "\"Quickly stopped in for a UFC fight. I sat down at the bar while my boyfriend parked the car. Although the restaurant bar was packed and LOUD, the bartender  (Vanessa) came over within a minute. Prompt service with a smile. When my boyfriend arrived a few minutes later, we didn't see Vanessa behind the bar so we tried to flag down her male coworker. He was caught up watching the fight and it took a few minutes to get his attention - which is fine. Not fine, however, is that after I ordered a beer, he stood and texted for a few minutes before getting my beer and held his arm up to shield his texting from management lol. Vanessa, however, is an excellent bartender!! As loud as it is in this place, she continually scanned the bar looking for people attempting to make eye contact with her for service. I watched her work (my boyfriend and I have thirty years of food and beverage experience between the two of us) and she was focused and productive, but most importantly, she was ATTENTIVE! Give this girl a raise!!\""
      ]
     },
     "execution_count": 20,
     "metadata": {},
     "output_type": "execute_result"
    }
   ],
   "source": [
    "reviews_df.text.iloc[15]"
   ]
  },
  {
   "cell_type": "markdown",
   "id": "57b381ef",
   "metadata": {},
   "source": [
    "### Tokenization ##"
   ]
  },
  {
   "cell_type": "code",
   "execution_count": 21,
   "id": "267f699a",
   "metadata": {},
   "outputs": [
    {
     "name": "stdout",
     "output_type": "stream",
     "text": [
      "Found 1218613 unique tokens.\n"
     ]
    }
   ],
   "source": [
    "# The maximum number of words to be used. (most frequent)\n",
    "MAX_NB_WORDS = 10000\n",
    "\n",
    "# Max number of words in each complaint.\n",
    "MAX_SEQUENCE_LENGTH = 200\n",
    "\n",
    "tokenizer = Tokenizer(num_words=MAX_NB_WORDS, filters='!\"#$%&()*+,-./:;<=>?@[\\]^_`{|}~')\n",
    "tokenizer.fit_on_texts(reviews_df.text.values)\n",
    "word_index = tokenizer.word_index\n",
    "print('Found %s unique tokens.' % len(word_index))"
   ]
  },
  {
   "cell_type": "code",
   "execution_count": 22,
   "id": "ab55e353",
   "metadata": {},
   "outputs": [
    {
     "name": "stdout",
     "output_type": "stream",
     "text": [
      "Shape of data tensor: (8635403, 200)\n"
     ]
    }
   ],
   "source": [
    "X = tokenizer.texts_to_sequences(reviews_df.text.values)\n",
    "X = pad_sequences(X, maxlen=MAX_SEQUENCE_LENGTH)\n",
    "print('Shape of data tensor:', X.shape)"
   ]
  },
  {
   "cell_type": "code",
   "execution_count": 23,
   "id": "0c928049",
   "metadata": {},
   "outputs": [
    {
     "name": "stdout",
     "output_type": "stream",
     "text": [
      "Shape of label tensor: (8635403,)\n"
     ]
    }
   ],
   "source": [
    "y = reviews_df['funny or not'].values\n",
    "print('Shape of label tensor:', y.shape)"
   ]
  },
  {
   "cell_type": "code",
   "execution_count": 24,
   "id": "1243bb13",
   "metadata": {},
   "outputs": [
    {
     "name": "stdout",
     "output_type": "stream",
     "text": [
      "(6908322, 200) (6908322,)\n",
      "(1727081, 200) (1727081,)\n"
     ]
    }
   ],
   "source": [
    "# train test split \n",
    "\n",
    "X_train, X_test, y_train, y_test = train_test_split(X, y, test_size = 0.20, random_state = 42)\n",
    "print(X_train.shape, y_train.shape)\n",
    "print(X_test.shape, y_test.shape)"
   ]
  },
  {
   "cell_type": "code",
   "execution_count": 26,
   "id": "88de7594",
   "metadata": {},
   "outputs": [],
   "source": [
    "# balance train data\n",
    "X_train_funny = pd.DataFrame(X_train[y_train == 1])\n",
    "X_train_not_funny = pd.DataFrame(X_train[y_train == 0]).sample(n=len(X_train_funny), random_state=42)\n",
    "\n",
    "y_train_funny = pd.DataFrame(y_train[y_train == 1])\n",
    "y_train_not_funny = pd.DataFrame(y_train[y_train == 0]).sample(n=len(y_train_funny), random_state=42)\n",
    "\n",
    "X_train_balanced = pd.concat([X_train_funny, X_train_not_funny])\n",
    "y_train_balanced = pd.concat([y_train_funny, y_train_not_funny])"
   ]
  },
  {
   "cell_type": "code",
   "execution_count": 27,
   "id": "c576b864",
   "metadata": {},
   "outputs": [],
   "source": [
    "# # save to csv\n",
    "# X_train_balanced.to_csv('X_train_balanced_tokenized_10000_200.csv')\n",
    "# y_train_balanced.to_csv('y_train_balanced_tokenized_10000_200.csv')"
   ]
  },
  {
   "cell_type": "code",
   "execution_count": 9,
   "id": "8b825ce5",
   "metadata": {},
   "outputs": [],
   "source": [
    "# # read in csvs\n",
    "# X_train_balanced = pd.read_csv('X_train_balanced_tokenized_10000_200.csv')\n",
    "# y_train_balanced = pd.read_csv('y_train_balanced_tokenized_10000_200.csv')"
   ]
  },
  {
   "cell_type": "code",
   "execution_count": 11,
   "id": "a0edd675",
   "metadata": {},
   "outputs": [],
   "source": [
    "# drop unnamed column\n",
    "X_train_balanced = X_train_balanced.drop(['Unnamed: 0'], axis = 1)\n",
    "y_train_balanced = y_train_balanced.drop(['Unnamed: 0'], axis = 1)"
   ]
  },
  {
   "cell_type": "code",
   "execution_count": 28,
   "id": "e285ebe8",
   "metadata": {},
   "outputs": [
    {
     "data": {
      "text/html": [
       "<div>\n",
       "<style scoped>\n",
       "    .dataframe tbody tr th:only-of-type {\n",
       "        vertical-align: middle;\n",
       "    }\n",
       "\n",
       "    .dataframe tbody tr th {\n",
       "        vertical-align: top;\n",
       "    }\n",
       "\n",
       "    .dataframe thead th {\n",
       "        text-align: right;\n",
       "    }\n",
       "</style>\n",
       "<table border=\"1\" class=\"dataframe\">\n",
       "  <thead>\n",
       "    <tr style=\"text-align: right;\">\n",
       "      <th></th>\n",
       "      <th>0</th>\n",
       "      <th>1</th>\n",
       "      <th>2</th>\n",
       "      <th>3</th>\n",
       "      <th>4</th>\n",
       "      <th>5</th>\n",
       "      <th>6</th>\n",
       "      <th>7</th>\n",
       "      <th>8</th>\n",
       "      <th>9</th>\n",
       "      <th>...</th>\n",
       "      <th>190</th>\n",
       "      <th>191</th>\n",
       "      <th>192</th>\n",
       "      <th>193</th>\n",
       "      <th>194</th>\n",
       "      <th>195</th>\n",
       "      <th>196</th>\n",
       "      <th>197</th>\n",
       "      <th>198</th>\n",
       "      <th>199</th>\n",
       "    </tr>\n",
       "  </thead>\n",
       "  <tbody>\n",
       "    <tr>\n",
       "      <th>0</th>\n",
       "      <td>62</td>\n",
       "      <td>132</td>\n",
       "      <td>62</td>\n",
       "      <td>1077</td>\n",
       "      <td>5</td>\n",
       "      <td>289</td>\n",
       "      <td>8</td>\n",
       "      <td>11</td>\n",
       "      <td>3</td>\n",
       "      <td>298</td>\n",
       "      <td>...</td>\n",
       "      <td>8302</td>\n",
       "      <td>206</td>\n",
       "      <td>5541</td>\n",
       "      <td>5</td>\n",
       "      <td>32</td>\n",
       "      <td>40</td>\n",
       "      <td>197</td>\n",
       "      <td>27</td>\n",
       "      <td>1</td>\n",
       "      <td>6160</td>\n",
       "    </tr>\n",
       "    <tr>\n",
       "      <th>1</th>\n",
       "      <td>37</td>\n",
       "      <td>17</td>\n",
       "      <td>18</td>\n",
       "      <td>73</td>\n",
       "      <td>23</td>\n",
       "      <td>5</td>\n",
       "      <td>587</td>\n",
       "      <td>1</td>\n",
       "      <td>864</td>\n",
       "      <td>7</td>\n",
       "      <td>...</td>\n",
       "      <td>2445</td>\n",
       "      <td>279</td>\n",
       "      <td>52</td>\n",
       "      <td>1805</td>\n",
       "      <td>1</td>\n",
       "      <td>1717</td>\n",
       "      <td>2</td>\n",
       "      <td>5</td>\n",
       "      <td>4</td>\n",
       "      <td>747</td>\n",
       "    </tr>\n",
       "    <tr>\n",
       "      <th>2</th>\n",
       "      <td>207</td>\n",
       "      <td>10</td>\n",
       "      <td>128</td>\n",
       "      <td>432</td>\n",
       "      <td>43</td>\n",
       "      <td>145</td>\n",
       "      <td>6</td>\n",
       "      <td>66</td>\n",
       "      <td>231</td>\n",
       "      <td>94</td>\n",
       "      <td>...</td>\n",
       "      <td>17</td>\n",
       "      <td>41</td>\n",
       "      <td>3</td>\n",
       "      <td>6</td>\n",
       "      <td>5137</td>\n",
       "      <td>600</td>\n",
       "      <td>24</td>\n",
       "      <td>1802</td>\n",
       "      <td>20</td>\n",
       "      <td>32</td>\n",
       "    </tr>\n",
       "    <tr>\n",
       "      <th>3</th>\n",
       "      <td>45</td>\n",
       "      <td>4</td>\n",
       "      <td>47</td>\n",
       "      <td>347</td>\n",
       "      <td>1127</td>\n",
       "      <td>254</td>\n",
       "      <td>30</td>\n",
       "      <td>10</td>\n",
       "      <td>3212</td>\n",
       "      <td>1713</td>\n",
       "      <td>...</td>\n",
       "      <td>49</td>\n",
       "      <td>68</td>\n",
       "      <td>2075</td>\n",
       "      <td>2</td>\n",
       "      <td>213</td>\n",
       "      <td>100</td>\n",
       "      <td>290</td>\n",
       "      <td>893</td>\n",
       "      <td>20</td>\n",
       "      <td>8</td>\n",
       "    </tr>\n",
       "    <tr>\n",
       "      <th>4</th>\n",
       "      <td>0</td>\n",
       "      <td>0</td>\n",
       "      <td>0</td>\n",
       "      <td>0</td>\n",
       "      <td>0</td>\n",
       "      <td>0</td>\n",
       "      <td>0</td>\n",
       "      <td>0</td>\n",
       "      <td>0</td>\n",
       "      <td>0</td>\n",
       "      <td>...</td>\n",
       "      <td>12</td>\n",
       "      <td>158</td>\n",
       "      <td>11</td>\n",
       "      <td>381</td>\n",
       "      <td>94</td>\n",
       "      <td>382</td>\n",
       "      <td>159</td>\n",
       "      <td>1192</td>\n",
       "      <td>2</td>\n",
       "      <td>1039</td>\n",
       "    </tr>\n",
       "    <tr>\n",
       "      <th>...</th>\n",
       "      <td>...</td>\n",
       "      <td>...</td>\n",
       "      <td>...</td>\n",
       "      <td>...</td>\n",
       "      <td>...</td>\n",
       "      <td>...</td>\n",
       "      <td>...</td>\n",
       "      <td>...</td>\n",
       "      <td>...</td>\n",
       "      <td>...</td>\n",
       "      <td>...</td>\n",
       "      <td>...</td>\n",
       "      <td>...</td>\n",
       "      <td>...</td>\n",
       "      <td>...</td>\n",
       "      <td>...</td>\n",
       "      <td>...</td>\n",
       "      <td>...</td>\n",
       "      <td>...</td>\n",
       "      <td>...</td>\n",
       "      <td>...</td>\n",
       "    </tr>\n",
       "    <tr>\n",
       "      <th>2499243</th>\n",
       "      <td>0</td>\n",
       "      <td>0</td>\n",
       "      <td>0</td>\n",
       "      <td>0</td>\n",
       "      <td>0</td>\n",
       "      <td>0</td>\n",
       "      <td>0</td>\n",
       "      <td>0</td>\n",
       "      <td>0</td>\n",
       "      <td>0</td>\n",
       "      <td>...</td>\n",
       "      <td>92</td>\n",
       "      <td>9</td>\n",
       "      <td>35</td>\n",
       "      <td>84</td>\n",
       "      <td>83</td>\n",
       "      <td>35</td>\n",
       "      <td>206</td>\n",
       "      <td>5687</td>\n",
       "      <td>9</td>\n",
       "      <td>216</td>\n",
       "    </tr>\n",
       "    <tr>\n",
       "      <th>4685699</th>\n",
       "      <td>0</td>\n",
       "      <td>0</td>\n",
       "      <td>0</td>\n",
       "      <td>0</td>\n",
       "      <td>0</td>\n",
       "      <td>0</td>\n",
       "      <td>0</td>\n",
       "      <td>0</td>\n",
       "      <td>0</td>\n",
       "      <td>0</td>\n",
       "      <td>...</td>\n",
       "      <td>983</td>\n",
       "      <td>10</td>\n",
       "      <td>690</td>\n",
       "      <td>1697</td>\n",
       "      <td>1381</td>\n",
       "      <td>281</td>\n",
       "      <td>56</td>\n",
       "      <td>38</td>\n",
       "      <td>125</td>\n",
       "      <td>1876</td>\n",
       "    </tr>\n",
       "    <tr>\n",
       "      <th>3177944</th>\n",
       "      <td>0</td>\n",
       "      <td>0</td>\n",
       "      <td>0</td>\n",
       "      <td>0</td>\n",
       "      <td>0</td>\n",
       "      <td>0</td>\n",
       "      <td>0</td>\n",
       "      <td>0</td>\n",
       "      <td>0</td>\n",
       "      <td>0</td>\n",
       "      <td>...</td>\n",
       "      <td>766</td>\n",
       "      <td>9</td>\n",
       "      <td>34</td>\n",
       "      <td>47</td>\n",
       "      <td>7</td>\n",
       "      <td>1</td>\n",
       "      <td>30</td>\n",
       "      <td>7729</td>\n",
       "      <td>676</td>\n",
       "      <td>1177</td>\n",
       "    </tr>\n",
       "    <tr>\n",
       "      <th>4955577</th>\n",
       "      <td>7</td>\n",
       "      <td>12</td>\n",
       "      <td>302</td>\n",
       "      <td>146</td>\n",
       "      <td>61</td>\n",
       "      <td>822</td>\n",
       "      <td>931</td>\n",
       "      <td>171</td>\n",
       "      <td>1987</td>\n",
       "      <td>1</td>\n",
       "      <td>...</td>\n",
       "      <td>106</td>\n",
       "      <td>3</td>\n",
       "      <td>1318</td>\n",
       "      <td>19</td>\n",
       "      <td>22</td>\n",
       "      <td>1</td>\n",
       "      <td>319</td>\n",
       "      <td>9</td>\n",
       "      <td>13</td>\n",
       "      <td>485</td>\n",
       "    </tr>\n",
       "    <tr>\n",
       "      <th>551657</th>\n",
       "      <td>2</td>\n",
       "      <td>634</td>\n",
       "      <td>5064</td>\n",
       "      <td>50</td>\n",
       "      <td>1</td>\n",
       "      <td>261</td>\n",
       "      <td>872</td>\n",
       "      <td>77</td>\n",
       "      <td>18</td>\n",
       "      <td>25</td>\n",
       "      <td>...</td>\n",
       "      <td>14</td>\n",
       "      <td>12</td>\n",
       "      <td>247</td>\n",
       "      <td>2</td>\n",
       "      <td>54</td>\n",
       "      <td>100</td>\n",
       "      <td>452</td>\n",
       "      <td>5</td>\n",
       "      <td>16</td>\n",
       "      <td>176</td>\n",
       "    </tr>\n",
       "  </tbody>\n",
       "</table>\n",
       "<p>545862 rows × 200 columns</p>\n",
       "</div>"
      ],
      "text/plain": [
       "         0    1     2     3     4    5    6    7     8     9    ...   190  \\\n",
       "0         62  132    62  1077     5  289    8   11     3   298  ...  8302   \n",
       "1         37   17    18    73    23    5  587    1   864     7  ...  2445   \n",
       "2        207   10   128   432    43  145    6   66   231    94  ...    17   \n",
       "3         45    4    47   347  1127  254   30   10  3212  1713  ...    49   \n",
       "4          0    0     0     0     0    0    0    0     0     0  ...    12   \n",
       "...      ...  ...   ...   ...   ...  ...  ...  ...   ...   ...  ...   ...   \n",
       "2499243    0    0     0     0     0    0    0    0     0     0  ...    92   \n",
       "4685699    0    0     0     0     0    0    0    0     0     0  ...   983   \n",
       "3177944    0    0     0     0     0    0    0    0     0     0  ...   766   \n",
       "4955577    7   12   302   146    61  822  931  171  1987     1  ...   106   \n",
       "551657     2  634  5064    50     1  261  872   77    18    25  ...    14   \n",
       "\n",
       "         191   192   193   194   195  196   197  198   199  \n",
       "0        206  5541     5    32    40  197    27    1  6160  \n",
       "1        279    52  1805     1  1717    2     5    4   747  \n",
       "2         41     3     6  5137   600   24  1802   20    32  \n",
       "3         68  2075     2   213   100  290   893   20     8  \n",
       "4        158    11   381    94   382  159  1192    2  1039  \n",
       "...      ...   ...   ...   ...   ...  ...   ...  ...   ...  \n",
       "2499243    9    35    84    83    35  206  5687    9   216  \n",
       "4685699   10   690  1697  1381   281   56    38  125  1876  \n",
       "3177944    9    34    47     7     1   30  7729  676  1177  \n",
       "4955577    3  1318    19    22     1  319     9   13   485  \n",
       "551657    12   247     2    54   100  452     5   16   176  \n",
       "\n",
       "[545862 rows x 200 columns]"
      ]
     },
     "execution_count": 28,
     "metadata": {},
     "output_type": "execute_result"
    }
   ],
   "source": [
    "X_train_balanced"
   ]
  },
  {
   "cell_type": "code",
   "execution_count": 30,
   "id": "e0c583f4",
   "metadata": {},
   "outputs": [],
   "source": [
    "# shuffle data \n",
    "X_train_balanced = X_train_balanced.sample(frac=1, random_state=42)\n",
    "y_train_balanced = y_train_balanced.sample(frac=1, random_state=42)"
   ]
  },
  {
   "cell_type": "code",
   "execution_count": null,
   "id": "2aba602b",
   "metadata": {},
   "outputs": [],
   "source": [
    "# take sample of 50k/100k\n",
    "\n",
    "sample_X_train_balanced = X_train_balanced.sample(n=50000, random_state=42)\n",
    "sample_y_train_balanced = y_train_balanced.sample(n=50000, random_state=42)"
   ]
  },
  {
   "cell_type": "code",
   "execution_count": 40,
   "id": "9fcd3a07",
   "metadata": {},
   "outputs": [
    {
     "data": {
      "text/html": [
       "<div>\n",
       "<style scoped>\n",
       "    .dataframe tbody tr th:only-of-type {\n",
       "        vertical-align: middle;\n",
       "    }\n",
       "\n",
       "    .dataframe tbody tr th {\n",
       "        vertical-align: top;\n",
       "    }\n",
       "\n",
       "    .dataframe thead th {\n",
       "        text-align: right;\n",
       "    }\n",
       "</style>\n",
       "<table border=\"1\" class=\"dataframe\">\n",
       "  <thead>\n",
       "    <tr style=\"text-align: right;\">\n",
       "      <th></th>\n",
       "      <th>0</th>\n",
       "      <th>1</th>\n",
       "      <th>2</th>\n",
       "      <th>3</th>\n",
       "      <th>4</th>\n",
       "      <th>5</th>\n",
       "      <th>6</th>\n",
       "      <th>7</th>\n",
       "      <th>8</th>\n",
       "      <th>9</th>\n",
       "      <th>...</th>\n",
       "      <th>190</th>\n",
       "      <th>191</th>\n",
       "      <th>192</th>\n",
       "      <th>193</th>\n",
       "      <th>194</th>\n",
       "      <th>195</th>\n",
       "      <th>196</th>\n",
       "      <th>197</th>\n",
       "      <th>198</th>\n",
       "      <th>199</th>\n",
       "    </tr>\n",
       "  </thead>\n",
       "  <tbody>\n",
       "    <tr>\n",
       "      <th>82335</th>\n",
       "      <td>47</td>\n",
       "      <td>50</td>\n",
       "      <td>19</td>\n",
       "      <td>8781</td>\n",
       "      <td>584</td>\n",
       "      <td>128</td>\n",
       "      <td>1425</td>\n",
       "      <td>712</td>\n",
       "      <td>14</td>\n",
       "      <td>68</td>\n",
       "      <td>...</td>\n",
       "      <td>186</td>\n",
       "      <td>7</td>\n",
       "      <td>308</td>\n",
       "      <td>42</td>\n",
       "      <td>29</td>\n",
       "      <td>553</td>\n",
       "      <td>5</td>\n",
       "      <td>29</td>\n",
       "      <td>5132</td>\n",
       "      <td>2310</td>\n",
       "    </tr>\n",
       "    <tr>\n",
       "      <th>3353430</th>\n",
       "      <td>0</td>\n",
       "      <td>0</td>\n",
       "      <td>0</td>\n",
       "      <td>0</td>\n",
       "      <td>0</td>\n",
       "      <td>0</td>\n",
       "      <td>0</td>\n",
       "      <td>0</td>\n",
       "      <td>0</td>\n",
       "      <td>0</td>\n",
       "      <td>...</td>\n",
       "      <td>11</td>\n",
       "      <td>38</td>\n",
       "      <td>1</td>\n",
       "      <td>46</td>\n",
       "      <td>9</td>\n",
       "      <td>1151</td>\n",
       "      <td>113</td>\n",
       "      <td>245</td>\n",
       "      <td>37</td>\n",
       "      <td>6586</td>\n",
       "    </tr>\n",
       "    <tr>\n",
       "      <th>186759</th>\n",
       "      <td>11</td>\n",
       "      <td>647</td>\n",
       "      <td>259</td>\n",
       "      <td>2156</td>\n",
       "      <td>8647</td>\n",
       "      <td>52</td>\n",
       "      <td>3372</td>\n",
       "      <td>8647</td>\n",
       "      <td>17</td>\n",
       "      <td>39</td>\n",
       "      <td>...</td>\n",
       "      <td>223</td>\n",
       "      <td>4088</td>\n",
       "      <td>3</td>\n",
       "      <td>765</td>\n",
       "      <td>541</td>\n",
       "      <td>157</td>\n",
       "      <td>406</td>\n",
       "      <td>449</td>\n",
       "      <td>739</td>\n",
       "      <td>1365</td>\n",
       "    </tr>\n",
       "    <tr>\n",
       "      <th>114189</th>\n",
       "      <td>128</td>\n",
       "      <td>28</td>\n",
       "      <td>457</td>\n",
       "      <td>3002</td>\n",
       "      <td>139</td>\n",
       "      <td>66</td>\n",
       "      <td>12</td>\n",
       "      <td>690</td>\n",
       "      <td>47</td>\n",
       "      <td>591</td>\n",
       "      <td>...</td>\n",
       "      <td>16</td>\n",
       "      <td>31</td>\n",
       "      <td>87</td>\n",
       "      <td>73</td>\n",
       "      <td>4</td>\n",
       "      <td>507</td>\n",
       "      <td>7</td>\n",
       "      <td>43</td>\n",
       "      <td>246</td>\n",
       "      <td>135</td>\n",
       "    </tr>\n",
       "    <tr>\n",
       "      <th>246001</th>\n",
       "      <td>265</td>\n",
       "      <td>1</td>\n",
       "      <td>19</td>\n",
       "      <td>45</td>\n",
       "      <td>35</td>\n",
       "      <td>102</td>\n",
       "      <td>43</td>\n",
       "      <td>9405</td>\n",
       "      <td>11</td>\n",
       "      <td>543</td>\n",
       "      <td>...</td>\n",
       "      <td>541</td>\n",
       "      <td>79</td>\n",
       "      <td>80</td>\n",
       "      <td>8</td>\n",
       "      <td>79</td>\n",
       "      <td>80</td>\n",
       "      <td>8</td>\n",
       "      <td>79</td>\n",
       "      <td>80</td>\n",
       "      <td>8</td>\n",
       "    </tr>\n",
       "    <tr>\n",
       "      <th>...</th>\n",
       "      <td>...</td>\n",
       "      <td>...</td>\n",
       "      <td>...</td>\n",
       "      <td>...</td>\n",
       "      <td>...</td>\n",
       "      <td>...</td>\n",
       "      <td>...</td>\n",
       "      <td>...</td>\n",
       "      <td>...</td>\n",
       "      <td>...</td>\n",
       "      <td>...</td>\n",
       "      <td>...</td>\n",
       "      <td>...</td>\n",
       "      <td>...</td>\n",
       "      <td>...</td>\n",
       "      <td>...</td>\n",
       "      <td>...</td>\n",
       "      <td>...</td>\n",
       "      <td>...</td>\n",
       "      <td>...</td>\n",
       "      <td>...</td>\n",
       "    </tr>\n",
       "    <tr>\n",
       "      <th>388614</th>\n",
       "      <td>0</td>\n",
       "      <td>0</td>\n",
       "      <td>0</td>\n",
       "      <td>0</td>\n",
       "      <td>0</td>\n",
       "      <td>0</td>\n",
       "      <td>0</td>\n",
       "      <td>0</td>\n",
       "      <td>0</td>\n",
       "      <td>0</td>\n",
       "      <td>...</td>\n",
       "      <td>572</td>\n",
       "      <td>194</td>\n",
       "      <td>1146</td>\n",
       "      <td>519</td>\n",
       "      <td>2</td>\n",
       "      <td>3674</td>\n",
       "      <td>1145</td>\n",
       "      <td>16</td>\n",
       "      <td>9</td>\n",
       "      <td>900</td>\n",
       "    </tr>\n",
       "    <tr>\n",
       "      <th>47838</th>\n",
       "      <td>340</td>\n",
       "      <td>135</td>\n",
       "      <td>917</td>\n",
       "      <td>521</td>\n",
       "      <td>3</td>\n",
       "      <td>245</td>\n",
       "      <td>37</td>\n",
       "      <td>1</td>\n",
       "      <td>20</td>\n",
       "      <td>1</td>\n",
       "      <td>...</td>\n",
       "      <td>37</td>\n",
       "      <td>21</td>\n",
       "      <td>4</td>\n",
       "      <td>6062</td>\n",
       "      <td>124</td>\n",
       "      <td>3</td>\n",
       "      <td>64</td>\n",
       "      <td>596</td>\n",
       "      <td>5</td>\n",
       "      <td>19</td>\n",
       "    </tr>\n",
       "    <tr>\n",
       "      <th>5448639</th>\n",
       "      <td>0</td>\n",
       "      <td>0</td>\n",
       "      <td>0</td>\n",
       "      <td>0</td>\n",
       "      <td>0</td>\n",
       "      <td>0</td>\n",
       "      <td>0</td>\n",
       "      <td>0</td>\n",
       "      <td>0</td>\n",
       "      <td>0</td>\n",
       "      <td>...</td>\n",
       "      <td>199</td>\n",
       "      <td>3</td>\n",
       "      <td>147</td>\n",
       "      <td>1752</td>\n",
       "      <td>63</td>\n",
       "      <td>334</td>\n",
       "      <td>278</td>\n",
       "      <td>253</td>\n",
       "      <td>40</td>\n",
       "      <td>190</td>\n",
       "    </tr>\n",
       "    <tr>\n",
       "      <th>50071</th>\n",
       "      <td>129</td>\n",
       "      <td>16</td>\n",
       "      <td>31</td>\n",
       "      <td>688</td>\n",
       "      <td>14</td>\n",
       "      <td>823</td>\n",
       "      <td>3</td>\n",
       "      <td>765</td>\n",
       "      <td>56</td>\n",
       "      <td>6076</td>\n",
       "      <td>...</td>\n",
       "      <td>1215</td>\n",
       "      <td>16</td>\n",
       "      <td>9</td>\n",
       "      <td>113</td>\n",
       "      <td>22</td>\n",
       "      <td>68</td>\n",
       "      <td>1011</td>\n",
       "      <td>741</td>\n",
       "      <td>1533</td>\n",
       "      <td>144</td>\n",
       "    </tr>\n",
       "    <tr>\n",
       "      <th>1760495</th>\n",
       "      <td>0</td>\n",
       "      <td>0</td>\n",
       "      <td>0</td>\n",
       "      <td>0</td>\n",
       "      <td>0</td>\n",
       "      <td>0</td>\n",
       "      <td>0</td>\n",
       "      <td>0</td>\n",
       "      <td>0</td>\n",
       "      <td>0</td>\n",
       "      <td>...</td>\n",
       "      <td>544</td>\n",
       "      <td>4</td>\n",
       "      <td>648</td>\n",
       "      <td>7</td>\n",
       "      <td>231</td>\n",
       "      <td>1044</td>\n",
       "      <td>60</td>\n",
       "      <td>348</td>\n",
       "      <td>125</td>\n",
       "      <td>4409</td>\n",
       "    </tr>\n",
       "  </tbody>\n",
       "</table>\n",
       "<p>50000 rows × 200 columns</p>\n",
       "</div>"
      ],
      "text/plain": [
       "         0    1    2     3     4    5     6     7    8     9    ...   190  \\\n",
       "82335     47   50   19  8781   584  128  1425   712   14    68  ...   186   \n",
       "3353430    0    0    0     0     0    0     0     0    0     0  ...    11   \n",
       "186759    11  647  259  2156  8647   52  3372  8647   17    39  ...   223   \n",
       "114189   128   28  457  3002   139   66    12   690   47   591  ...    16   \n",
       "246001   265    1   19    45    35  102    43  9405   11   543  ...   541   \n",
       "...      ...  ...  ...   ...   ...  ...   ...   ...  ...   ...  ...   ...   \n",
       "388614     0    0    0     0     0    0     0     0    0     0  ...   572   \n",
       "47838    340  135  917   521     3  245    37     1   20     1  ...    37   \n",
       "5448639    0    0    0     0     0    0     0     0    0     0  ...   199   \n",
       "50071    129   16   31   688    14  823     3   765   56  6076  ...  1215   \n",
       "1760495    0    0    0     0     0    0     0     0    0     0  ...   544   \n",
       "\n",
       "          191   192   193  194   195   196  197   198   199  \n",
       "82335       7   308    42   29   553     5   29  5132  2310  \n",
       "3353430    38     1    46    9  1151   113  245    37  6586  \n",
       "186759   4088     3   765  541   157   406  449   739  1365  \n",
       "114189     31    87    73    4   507     7   43   246   135  \n",
       "246001     79    80     8   79    80     8   79    80     8  \n",
       "...       ...   ...   ...  ...   ...   ...  ...   ...   ...  \n",
       "388614    194  1146   519    2  3674  1145   16     9   900  \n",
       "47838      21     4  6062  124     3    64  596     5    19  \n",
       "5448639     3   147  1752   63   334   278  253    40   190  \n",
       "50071      16     9   113   22    68  1011  741  1533   144  \n",
       "1760495     4   648     7  231  1044    60  348   125  4409  \n",
       "\n",
       "[50000 rows x 200 columns]"
      ]
     },
     "execution_count": 40,
     "metadata": {},
     "output_type": "execute_result"
    }
   ],
   "source": [
    "sample_X_train_balanced"
   ]
  },
  {
   "cell_type": "code",
   "execution_count": 51,
   "id": "66effa26",
   "metadata": {},
   "outputs": [
    {
     "data": {
      "text/plain": [
       "0    272931\n",
       "1    272931\n",
       "dtype: int64"
      ]
     },
     "execution_count": 51,
     "metadata": {},
     "output_type": "execute_result"
    }
   ],
   "source": [
    "y_train_balanced.value_counts()"
   ]
  },
  {
   "cell_type": "code",
   "execution_count": null,
   "id": "146251e3",
   "metadata": {},
   "outputs": [],
   "source": [
    "# shuffle test data\n",
    "\n",
    "X_test = pd.DataFrame(X_test).sample(frac=1, random_state=42)\n",
    "y_test = pd.DataFrame(y_test).sample(frac=1, random_state=42)"
   ]
  },
  {
   "cell_type": "markdown",
   "id": "469478d8",
   "metadata": {},
   "source": [
    "### Modeling"
   ]
  },
  {
   "cell_type": "markdown",
   "id": "0ef244b8",
   "metadata": {},
   "source": [
    "#### LSTM with one layer"
   ]
  },
  {
   "cell_type": "code",
   "execution_count": 113,
   "id": "32644d59",
   "metadata": {},
   "outputs": [
    {
     "name": "stdout",
     "output_type": "stream",
     "text": [
      "Model: \"sequential_12\"\n",
      "_________________________________________________________________\n",
      "Layer (type)                 Output Shape              Param #   \n",
      "=================================================================\n",
      "embedding_12 (Embedding)     (None, 200, 100)          1000000   \n",
      "_________________________________________________________________\n",
      "spatial_dropout1d_12 (Spatia (None, 200, 100)          0         \n",
      "_________________________________________________________________\n",
      "lstm_14 (LSTM)               (None, 100)               80400     \n",
      "_________________________________________________________________\n",
      "dense_12 (Dense)             (None, 1)                 101       \n",
      "=================================================================\n",
      "Total params: 1,080,501\n",
      "Trainable params: 1,080,501\n",
      "Non-trainable params: 0\n",
      "_________________________________________________________________\n",
      "None\n"
     ]
    }
   ],
   "source": [
    "EMBEDDING_DIM = 100\n",
    "LSTM_OUT = 100\n",
    "\n",
    "model = Sequential()\n",
    "model.add(Embedding(MAX_NB_WORDS, EMBEDDING_DIM, input_length=X.shape[1]))\n",
    "model.add(SpatialDropout1D(0.4))\n",
    "model.add(LSTM(LSTM_OUT, dropout=0.2, recurrent_dropout=0.2))\n",
    "model.add(Dense(1, activation='sigmoid'))\n",
    "model.compile(loss='binary_crossentropy', optimizer=Adam(lr=0.0001), metrics=['accuracy', tf.keras.metrics.Precision(name='precision'),\n",
    "      tf.keras.metrics.Recall(name='recall')])\n",
    "\n",
    "print(model.summary())"
   ]
  },
  {
   "cell_type": "code",
   "execution_count": 114,
   "id": "85b1a084",
   "metadata": {
    "scrolled": true
   },
   "outputs": [
    {
     "name": "stdout",
     "output_type": "stream",
     "text": [
      "Epoch 1/3\n",
      "625/625 [==============================] - 131s 199ms/step - loss: 0.6554 - accuracy: 0.5984 - precision: 0.6043 - recall: 0.5653 - val_loss: 0.5725 - val_accuracy: 0.7104 - val_precision: 0.6901 - val_recall: 0.7625\n",
      "Epoch 2/3\n",
      "625/625 [==============================] - 121s 193ms/step - loss: 0.5622 - accuracy: 0.7196 - precision: 0.7266 - recall: 0.7052 - val_loss: 0.5483 - val_accuracy: 0.7269 - val_precision: 0.7457 - val_recall: 0.6876\n",
      "Epoch 3/3\n",
      "625/625 [==============================] - 121s 194ms/step - loss: 0.5336 - accuracy: 0.7441 - precision: 0.7551 - recall: 0.7131 - val_loss: 0.5466 - val_accuracy: 0.7280 - val_precision: 0.7703 - val_recall: 0.6488\n"
     ]
    }
   ],
   "source": [
    "# train the model on sample of 50k\n",
    "\n",
    "history = model.fit(sample_X_train_balanced, sample_y_train_balanced, \n",
    "                    #epochs=3, \n",
    "                    batch_size=64,\n",
    "                    validation_split=0.2,\n",
    "                    verbose = 1,\n",
    "                    callbacks=[EarlyStopping(monitor='val_loss', patience=3, min_delta=0.0001)])"
   ]
  },
  {
   "cell_type": "code",
   "execution_count": null,
   "id": "1723ee97",
   "metadata": {},
   "outputs": [],
   "source": [
    "from "
   ]
  },
  {
   "cell_type": "code",
   "execution_count": 46,
   "id": "a0f6e590",
   "metadata": {},
   "outputs": [
    {
     "name": "stdout",
     "output_type": "stream",
     "text": [
      "Epoch 1/5\n",
      "6824/6824 [==============================] - 2013s 294ms/step - loss: 0.5743 - accuracy: 0.6976 - precision: 0.6932 - recall: 0.7209 - val_loss: 0.5202 - val_accuracy: 0.7444 - val_precision: 0.7435 - val_recall: 0.7466\n",
      "Epoch 2/5\n",
      "6824/6824 [==============================] - 1790s 262ms/step - loss: 0.5197 - accuracy: 0.7459 - precision: 0.7439 - recall: 0.7498 - val_loss: 0.5146 - val_accuracy: 0.7475 - val_precision: 0.7415 - val_recall: 0.7603\n",
      "Epoch 3/5\n",
      "6824/6824 [==============================] - 1629s 239ms/step - loss: 0.5078 - accuracy: 0.7542 - precision: 0.7553 - recall: 0.7525 - val_loss: 0.5112 - val_accuracy: 0.7495 - val_precision: 0.7389 - val_recall: 0.7717\n",
      "Epoch 4/5\n",
      "6824/6824 [==============================] - 1625s 238ms/step - loss: 0.5026 - accuracy: 0.7565 - precision: 0.7565 - recall: 0.7561 - val_loss: 0.5112 - val_accuracy: 0.7496 - val_precision: 0.7466 - val_recall: 0.7560\n",
      "Epoch 5/5\n",
      "6824/6824 [==============================] - 1630s 239ms/step - loss: 0.4976 - accuracy: 0.7598 - precision: 0.7597 - recall: 0.7620 - val_loss: 0.5122 - val_accuracy: 0.7496 - val_precision: 0.7571 - val_recall: 0.7353\n"
     ]
    }
   ],
   "source": [
    "# make sure to reinstantiate model then train on full data\n",
    "\n",
    "history = model.fit(X_train_balanced, y_train_balanced, \n",
    "                    #epochs=4, \n",
    "                    batch_size=64,\n",
    "                    validation_split=0.2,\n",
    "                    verbose = 1,\n",
    "                    callbacks=[EarlyStopping(monitor='val_loss', patience=3, min_delta=0.0001)])"
   ]
  },
  {
   "cell_type": "code",
   "execution_count": 47,
   "id": "f0b881b0",
   "metadata": {},
   "outputs": [],
   "source": [
    "# save model\n",
    "model.save('LSTM1.h5')"
   ]
  },
  {
   "cell_type": "code",
   "execution_count": null,
   "id": "0c977d4f",
   "metadata": {},
   "outputs": [],
   "source": [
    "# save history\n",
    "\n",
    "hist_df = pd.DataFrame(history.history)\n",
    "\n",
    "hist = 'history.csv'\n",
    "with open(hist, mode='w') as f:\n",
    "    hist_df.to_csv(f)"
   ]
  },
  {
   "cell_type": "code",
   "execution_count": 118,
   "id": "34254318",
   "metadata": {},
   "outputs": [],
   "source": [
    "# read in model\n",
    "model = keras.models.load_model('LSTM1.h5')"
   ]
  },
  {
   "cell_type": "code",
   "execution_count": 120,
   "id": "6270eb8c",
   "metadata": {},
   "outputs": [],
   "source": [
    "model.history"
   ]
  },
  {
   "cell_type": "code",
   "execution_count": 59,
   "id": "a23a07eb",
   "metadata": {
    "scrolled": true
   },
   "outputs": [
    {
     "name": "stdout",
     "output_type": "stream",
     "text": [
      "53972/53972 [==============================] - 1658s 31ms/step - loss: 0.5067 - accuracy: 0.7650 - precision: 0.1133 - recall: 0.7285\n"
     ]
    }
   ],
   "source": [
    "# evaluate model\n",
    "\n",
    "scores = model.evaluate(X_test, y_test)"
   ]
  },
  {
   "cell_type": "code",
   "execution_count": 60,
   "id": "5109a2ae",
   "metadata": {},
   "outputs": [
    {
     "name": "stdout",
     "output_type": "stream",
     "text": [
      "Test set\n",
      "  Loss: 0.5067\n",
      "  Accuracy: 0.7650\n",
      "  Precision: 0.1133\n",
      "  Recall: 0.7285\n"
     ]
    }
   ],
   "source": [
    "print('Test set\\n  Loss: {:0.4f}\\n  Accuracy: {:0.4f}\\n  Precision: {:0.4}\\n  Recall: {:0.4f}'.format(scores[0],scores[1], scores[2], scores[3]))"
   ]
  },
  {
   "cell_type": "code",
   "execution_count": null,
   "id": "85976c78",
   "metadata": {},
   "outputs": [],
   "source": []
  },
  {
   "cell_type": "code",
   "execution_count": 110,
   "id": "008c7784",
   "metadata": {},
   "outputs": [
    {
     "data": {
      "image/png": "[encoded data removed]",
      "text/plain": [
       "<Figure size 432x288 with 1 Axes>"
      ]
     },
     "metadata": {},
     "output_type": "display_data"
    }
   ],
   "source": [
    "# plot loss\n",
    "\n",
    "plt.title('Loss')\n",
    "plt.plot(history.history['loss'], label='train')\n",
    "plt.plot(history.history['val_loss'], label='test')\n",
    "plt.ylabel('loss')\n",
    "plt.xlabel('epoch')\n",
    "plt.legend()\n",
    "#plt.show();\n",
    "plt.savefig('imgs/LSTM1_loss', bbox_inches='tight')"
   ]
  },
  {
   "cell_type": "code",
   "execution_count": 111,
   "id": "364eaca1",
   "metadata": {},
   "outputs": [
    {
     "data": {
      "image/png": "[encoded data removed]",
      "text/plain": [
       "<Figure size 432x288 with 1 Axes>"
      ]
     },
     "metadata": {},
     "output_type": "display_data"
    }
   ],
   "source": [
    "# plot precision\n",
    "\n",
    "plt.title('Precision')\n",
    "plt.plot(history.history['precision'], label='train')\n",
    "plt.plot(history.history['val_precision'], label='test')\n",
    "plt.ylabel('precision')\n",
    "plt.xlabel('epoch')\n",
    "plt.legend()\n",
    "#plt.show();\n",
    "plt.savefig('imgs/LSTM1_precision', bbox_inches='tight')"
   ]
  },
  {
   "cell_type": "code",
   "execution_count": 112,
   "id": "64590584",
   "metadata": {},
   "outputs": [
    {
     "data": {
      "text/plain": [
       "<matplotlib.legend.Legend at 0x7fe938716070>"
      ]
     },
     "execution_count": 112,
     "metadata": {},
     "output_type": "execute_result"
    },
    {
     "data": {
      "image/png": "[encoded data removed]",
      "text/plain": [
       "<Figure size 432x288 with 1 Axes>"
      ]
     },
     "metadata": {},
     "output_type": "display_data"
    }
   ],
   "source": [
    "# plot recall\n",
    "\n",
    "plt.title('Recall')\n",
    "plt.plot(history.history['recall'], label='train')\n",
    "plt.plot(history.history['val_recall'], label='test')\n",
    "plt.ylabel('precision')\n",
    "plt.xlabel('epoch')\n",
    "plt.legend()\n",
    "#plt.show();\n",
    "#plt.savefig('imgs/LSTM1_precision', bbox_inches='tight')"
   ]
  },
  {
   "cell_type": "code",
   "execution_count": 62,
   "id": "71a2d25c",
   "metadata": {},
   "outputs": [
    {
     "ename": "KeyboardInterrupt",
     "evalue": "",
     "output_type": "error",
     "traceback": [
      "\u001b[0;31m---------------------------------------------------------------------------\u001b[0m",
      "\u001b[0;31mKeyboardInterrupt\u001b[0m                         Traceback (most recent call last)",
      "\u001b[0;32m<ipython-input-62-ef95181a0177>\u001b[0m in \u001b[0;36m<module>\u001b[0;34m\u001b[0m\n\u001b[1;32m      1\u001b[0m \u001b[0;31m# get cases of true positive, true negative, false positive, false negative\u001b[0m\u001b[0;34m\u001b[0m\u001b[0;34m\u001b[0m\u001b[0;34m\u001b[0m\u001b[0m\n\u001b[1;32m      2\u001b[0m \u001b[0;34m\u001b[0m\u001b[0m\n\u001b[0;32m----> 3\u001b[0;31m \u001b[0my_pred_LSTM1\u001b[0m \u001b[0;34m=\u001b[0m \u001b[0mmodel\u001b[0m\u001b[0;34m.\u001b[0m\u001b[0mpredict\u001b[0m\u001b[0;34m(\u001b[0m\u001b[0mX_test\u001b[0m\u001b[0;34m)\u001b[0m\u001b[0;34m\u001b[0m\u001b[0;34m\u001b[0m\u001b[0m\n\u001b[0m\u001b[1;32m      4\u001b[0m \u001b[0my_proba_LSTM1\u001b[0m \u001b[0;34m=\u001b[0m \u001b[0mmodel\u001b[0m\u001b[0;34m.\u001b[0m\u001b[0mpredict_proba\u001b[0m\u001b[0;34m(\u001b[0m\u001b[0mX_test\u001b[0m\u001b[0;34m)\u001b[0m\u001b[0;34m[\u001b[0m\u001b[0;34m:\u001b[0m\u001b[0;34m,\u001b[0m \u001b[0;36m1\u001b[0m\u001b[0;34m]\u001b[0m\u001b[0;34m\u001b[0m\u001b[0;34m\u001b[0m\u001b[0m\n",
      "\u001b[0;32m~/opt/anaconda3/lib/python3.8/site-packages/tensorflow/python/keras/engine/training.py\u001b[0m in \u001b[0;36mpredict\u001b[0;34m(self, x, batch_size, verbose, steps, callbacks, max_queue_size, workers, use_multiprocessing)\u001b[0m\n\u001b[1;32m   1627\u001b[0m           \u001b[0;32mfor\u001b[0m \u001b[0mstep\u001b[0m \u001b[0;32min\u001b[0m \u001b[0mdata_handler\u001b[0m\u001b[0;34m.\u001b[0m\u001b[0msteps\u001b[0m\u001b[0;34m(\u001b[0m\u001b[0;34m)\u001b[0m\u001b[0;34m:\u001b[0m\u001b[0;34m\u001b[0m\u001b[0;34m\u001b[0m\u001b[0m\n\u001b[1;32m   1628\u001b[0m             \u001b[0mcallbacks\u001b[0m\u001b[0;34m.\u001b[0m\u001b[0mon_predict_batch_begin\u001b[0m\u001b[0;34m(\u001b[0m\u001b[0mstep\u001b[0m\u001b[0;34m)\u001b[0m\u001b[0;34m\u001b[0m\u001b[0;34m\u001b[0m\u001b[0m\n\u001b[0;32m-> 1629\u001b[0;31m             \u001b[0mtmp_batch_outputs\u001b[0m \u001b[0;34m=\u001b[0m \u001b[0mself\u001b[0m\u001b[0;34m.\u001b[0m\u001b[0mpredict_function\u001b[0m\u001b[0;34m(\u001b[0m\u001b[0miterator\u001b[0m\u001b[0;34m)\u001b[0m\u001b[0;34m\u001b[0m\u001b[0;34m\u001b[0m\u001b[0m\n\u001b[0m\u001b[1;32m   1630\u001b[0m             \u001b[0;32mif\u001b[0m \u001b[0mdata_handler\u001b[0m\u001b[0;34m.\u001b[0m\u001b[0mshould_sync\u001b[0m\u001b[0;34m:\u001b[0m\u001b[0;34m\u001b[0m\u001b[0;34m\u001b[0m\u001b[0m\n\u001b[1;32m   1631\u001b[0m               \u001b[0mcontext\u001b[0m\u001b[0;34m.\u001b[0m\u001b[0masync_wait\u001b[0m\u001b[0;34m(\u001b[0m\u001b[0;34m)\u001b[0m\u001b[0;34m\u001b[0m\u001b[0;34m\u001b[0m\u001b[0m\n",
      "\u001b[0;32m~/opt/anaconda3/lib/python3.8/site-packages/tensorflow/python/eager/def_function.py\u001b[0m in \u001b[0;36m__call__\u001b[0;34m(self, *args, **kwds)\u001b[0m\n\u001b[1;32m    826\u001b[0m     \u001b[0mtracing_count\u001b[0m \u001b[0;34m=\u001b[0m \u001b[0mself\u001b[0m\u001b[0;34m.\u001b[0m\u001b[0mexperimental_get_tracing_count\u001b[0m\u001b[0;34m(\u001b[0m\u001b[0;34m)\u001b[0m\u001b[0;34m\u001b[0m\u001b[0;34m\u001b[0m\u001b[0m\n\u001b[1;32m    827\u001b[0m     \u001b[0;32mwith\u001b[0m \u001b[0mtrace\u001b[0m\u001b[0;34m.\u001b[0m\u001b[0mTrace\u001b[0m\u001b[0;34m(\u001b[0m\u001b[0mself\u001b[0m\u001b[0;34m.\u001b[0m\u001b[0m_name\u001b[0m\u001b[0;34m)\u001b[0m \u001b[0;32mas\u001b[0m \u001b[0mtm\u001b[0m\u001b[0;34m:\u001b[0m\u001b[0;34m\u001b[0m\u001b[0;34m\u001b[0m\u001b[0m\n\u001b[0;32m--> 828\u001b[0;31m       \u001b[0mresult\u001b[0m \u001b[0;34m=\u001b[0m \u001b[0mself\u001b[0m\u001b[0;34m.\u001b[0m\u001b[0m_call\u001b[0m\u001b[0;34m(\u001b[0m\u001b[0;34m*\u001b[0m\u001b[0margs\u001b[0m\u001b[0;34m,\u001b[0m \u001b[0;34m**\u001b[0m\u001b[0mkwds\u001b[0m\u001b[0;34m)\u001b[0m\u001b[0;34m\u001b[0m\u001b[0;34m\u001b[0m\u001b[0m\n\u001b[0m\u001b[1;32m    829\u001b[0m       \u001b[0mcompiler\u001b[0m \u001b[0;34m=\u001b[0m \u001b[0;34m\"xla\"\u001b[0m \u001b[0;32mif\u001b[0m \u001b[0mself\u001b[0m\u001b[0;34m.\u001b[0m\u001b[0m_experimental_compile\u001b[0m \u001b[0;32melse\u001b[0m \u001b[0;34m\"nonXla\"\u001b[0m\u001b[0;34m\u001b[0m\u001b[0;34m\u001b[0m\u001b[0m\n\u001b[1;32m    830\u001b[0m       \u001b[0mnew_tracing_count\u001b[0m \u001b[0;34m=\u001b[0m \u001b[0mself\u001b[0m\u001b[0;34m.\u001b[0m\u001b[0mexperimental_get_tracing_count\u001b[0m\u001b[0;34m(\u001b[0m\u001b[0;34m)\u001b[0m\u001b[0;34m\u001b[0m\u001b[0;34m\u001b[0m\u001b[0m\n",
      "\u001b[0;32m~/opt/anaconda3/lib/python3.8/site-packages/tensorflow/python/eager/def_function.py\u001b[0m in \u001b[0;36m_call\u001b[0;34m(self, *args, **kwds)\u001b[0m\n\u001b[1;32m    860\u001b[0m       \u001b[0;31m# In this case we have not created variables on the first call. So we can\u001b[0m\u001b[0;34m\u001b[0m\u001b[0;34m\u001b[0m\u001b[0;34m\u001b[0m\u001b[0m\n\u001b[1;32m    861\u001b[0m       \u001b[0;31m# run the first trace but we should fail if variables are created.\u001b[0m\u001b[0;34m\u001b[0m\u001b[0;34m\u001b[0m\u001b[0;34m\u001b[0m\u001b[0m\n\u001b[0;32m--> 862\u001b[0;31m       \u001b[0mresults\u001b[0m \u001b[0;34m=\u001b[0m \u001b[0mself\u001b[0m\u001b[0;34m.\u001b[0m\u001b[0m_stateful_fn\u001b[0m\u001b[0;34m(\u001b[0m\u001b[0;34m*\u001b[0m\u001b[0margs\u001b[0m\u001b[0;34m,\u001b[0m \u001b[0;34m**\u001b[0m\u001b[0mkwds\u001b[0m\u001b[0;34m)\u001b[0m\u001b[0;34m\u001b[0m\u001b[0;34m\u001b[0m\u001b[0m\n\u001b[0m\u001b[1;32m    863\u001b[0m       \u001b[0;32mif\u001b[0m \u001b[0mself\u001b[0m\u001b[0;34m.\u001b[0m\u001b[0m_created_variables\u001b[0m\u001b[0;34m:\u001b[0m\u001b[0;34m\u001b[0m\u001b[0;34m\u001b[0m\u001b[0m\n\u001b[1;32m    864\u001b[0m         raise ValueError(\"Creating variables on a non-first call to a function\"\n",
      "\u001b[0;32m~/opt/anaconda3/lib/python3.8/site-packages/tensorflow/python/eager/function.py\u001b[0m in \u001b[0;36m__call__\u001b[0;34m(self, *args, **kwargs)\u001b[0m\n\u001b[1;32m   2940\u001b[0m       (graph_function,\n\u001b[1;32m   2941\u001b[0m        filtered_flat_args) = self._maybe_define_function(args, kwargs)\n\u001b[0;32m-> 2942\u001b[0;31m     return graph_function._call_flat(\n\u001b[0m\u001b[1;32m   2943\u001b[0m         filtered_flat_args, captured_inputs=graph_function.captured_inputs)  # pylint: disable=protected-access\n\u001b[1;32m   2944\u001b[0m \u001b[0;34m\u001b[0m\u001b[0m\n",
      "\u001b[0;32m~/opt/anaconda3/lib/python3.8/site-packages/tensorflow/python/eager/function.py\u001b[0m in \u001b[0;36m_call_flat\u001b[0;34m(self, args, captured_inputs, cancellation_manager)\u001b[0m\n\u001b[1;32m   1916\u001b[0m         and executing_eagerly):\n\u001b[1;32m   1917\u001b[0m       \u001b[0;31m# No tape is watching; skip to running the function.\u001b[0m\u001b[0;34m\u001b[0m\u001b[0;34m\u001b[0m\u001b[0;34m\u001b[0m\u001b[0m\n\u001b[0;32m-> 1918\u001b[0;31m       return self._build_call_outputs(self._inference_function.call(\n\u001b[0m\u001b[1;32m   1919\u001b[0m           ctx, args, cancellation_manager=cancellation_manager))\n\u001b[1;32m   1920\u001b[0m     forward_backward = self._select_forward_and_backward_functions(\n",
      "\u001b[0;32m~/opt/anaconda3/lib/python3.8/site-packages/tensorflow/python/eager/function.py\u001b[0m in \u001b[0;36mcall\u001b[0;34m(self, ctx, args, cancellation_manager)\u001b[0m\n\u001b[1;32m    553\u001b[0m       \u001b[0;32mwith\u001b[0m \u001b[0m_InterpolateFunctionError\u001b[0m\u001b[0;34m(\u001b[0m\u001b[0mself\u001b[0m\u001b[0;34m)\u001b[0m\u001b[0;34m:\u001b[0m\u001b[0;34m\u001b[0m\u001b[0;34m\u001b[0m\u001b[0m\n\u001b[1;32m    554\u001b[0m         \u001b[0;32mif\u001b[0m \u001b[0mcancellation_manager\u001b[0m \u001b[0;32mis\u001b[0m \u001b[0;32mNone\u001b[0m\u001b[0;34m:\u001b[0m\u001b[0;34m\u001b[0m\u001b[0;34m\u001b[0m\u001b[0m\n\u001b[0;32m--> 555\u001b[0;31m           outputs = execute.execute(\n\u001b[0m\u001b[1;32m    556\u001b[0m               \u001b[0mstr\u001b[0m\u001b[0;34m(\u001b[0m\u001b[0mself\u001b[0m\u001b[0;34m.\u001b[0m\u001b[0msignature\u001b[0m\u001b[0;34m.\u001b[0m\u001b[0mname\u001b[0m\u001b[0;34m)\u001b[0m\u001b[0;34m,\u001b[0m\u001b[0;34m\u001b[0m\u001b[0;34m\u001b[0m\u001b[0m\n\u001b[1;32m    557\u001b[0m               \u001b[0mnum_outputs\u001b[0m\u001b[0;34m=\u001b[0m\u001b[0mself\u001b[0m\u001b[0;34m.\u001b[0m\u001b[0m_num_outputs\u001b[0m\u001b[0;34m,\u001b[0m\u001b[0;34m\u001b[0m\u001b[0;34m\u001b[0m\u001b[0m\n",
      "\u001b[0;32m~/opt/anaconda3/lib/python3.8/site-packages/tensorflow/python/eager/execute.py\u001b[0m in \u001b[0;36mquick_execute\u001b[0;34m(op_name, num_outputs, inputs, attrs, ctx, name)\u001b[0m\n\u001b[1;32m     57\u001b[0m   \u001b[0;32mtry\u001b[0m\u001b[0;34m:\u001b[0m\u001b[0;34m\u001b[0m\u001b[0;34m\u001b[0m\u001b[0m\n\u001b[1;32m     58\u001b[0m     \u001b[0mctx\u001b[0m\u001b[0;34m.\u001b[0m\u001b[0mensure_initialized\u001b[0m\u001b[0;34m(\u001b[0m\u001b[0;34m)\u001b[0m\u001b[0;34m\u001b[0m\u001b[0;34m\u001b[0m\u001b[0m\n\u001b[0;32m---> 59\u001b[0;31m     tensors = pywrap_tfe.TFE_Py_Execute(ctx._handle, device_name, op_name,\n\u001b[0m\u001b[1;32m     60\u001b[0m                                         inputs, attrs, num_outputs)\n\u001b[1;32m     61\u001b[0m   \u001b[0;32mexcept\u001b[0m \u001b[0mcore\u001b[0m\u001b[0;34m.\u001b[0m\u001b[0m_NotOkStatusException\u001b[0m \u001b[0;32mas\u001b[0m \u001b[0me\u001b[0m\u001b[0;34m:\u001b[0m\u001b[0;34m\u001b[0m\u001b[0;34m\u001b[0m\u001b[0m\n",
      "\u001b[0;31mKeyboardInterrupt\u001b[0m: "
     ]
    }
   ],
   "source": [
    "# get cases of true positive, true negative, false positive, false negative\n",
    "\n",
    "y_pred_LSTM1 = model.predict(X_test)\n",
    "y_proba_LSTM1 = model.predict_proba(X_test)[:, 1]"
   ]
  },
  {
   "cell_type": "code",
   "execution_count": null,
   "id": "8948a0fe",
   "metadata": {},
   "outputs": [],
   "source": [
    "print(\"Accuracy:\", accuracy_score(y_test, y_pred_LSTM1))\n",
    "print(\"Precision:\", precision_score(y_test, y_pred_LSTM1))\n",
    "print(\"Recall:\", recall_score(y_test, y_pred_LSTM1))"
   ]
  },
  {
   "cell_type": "markdown",
   "id": "a10b6e52",
   "metadata": {},
   "source": [
    "#### LSTM with two layers and dropouts"
   ]
  },
  {
   "cell_type": "code",
   "execution_count": 125,
   "id": "a1ea49eb",
   "metadata": {},
   "outputs": [
    {
     "name": "stdout",
     "output_type": "stream",
     "text": [
      "Model: \"sequential_13\"\n",
      "_________________________________________________________________\n",
      "Layer (type)                 Output Shape              Param #   \n",
      "=================================================================\n",
      "embedding_13 (Embedding)     (None, 200, 100)          1000000   \n",
      "_________________________________________________________________\n",
      "spatial_dropout1d_13 (Spatia (None, 200, 100)          0         \n",
      "_________________________________________________________________\n",
      "lstm_15 (LSTM)               (None, 200, 100)          80400     \n",
      "_________________________________________________________________\n",
      "lstm_16 (LSTM)               (None, 100)               80400     \n",
      "_________________________________________________________________\n",
      "dense_13 (Dense)             (None, 1)                 101       \n",
      "=================================================================\n",
      "Total params: 1,160,901\n",
      "Trainable params: 1,160,901\n",
      "Non-trainable params: 0\n",
      "_________________________________________________________________\n",
      "None\n"
     ]
    }
   ],
   "source": [
    "model2 = Sequential()\n",
    "model2.add(Embedding(10000, 100, input_length=X.shape[1]))\n",
    "model2.add(SpatialDropout1D(0.4)) # start at 0\n",
    "model2.add(LSTM(100, dropout=0.2, recurrent_dropout=0.2, return_sequences=True)) # reduce recurrent_dropout later\n",
    "model2.add(LSTM(100, dropout=0.2, recurrent_dropout=0.2, return_sequences=False))\n",
    "model2.add(Dense(1, activation='sigmoid'))\n",
    "        \n",
    "model2.compile(loss='binary_crossentropy', optimizer=Adam(lr=0.0001), \n",
    "              metrics=['accuracy', tf.keras.metrics.Precision(name='precision'),\n",
    "                       tf.keras.metrics.Recall(name='recall')])\n",
    "\n",
    "print(model2.summary())"
   ]
  },
  {
   "cell_type": "code",
   "execution_count": 73,
   "id": "6fc62d2d",
   "metadata": {
    "scrolled": true
   },
   "outputs": [
    {
     "name": "stdout",
     "output_type": "stream",
     "text": [
      "Epoch 1/4\n",
      "625/625 [==============================] - 245s 381ms/step - loss: 0.6363 - accuracy: 0.6272 - precision: 0.6256 - recall: 0.6333 - val_loss: 0.5738 - val_accuracy: 0.7041 - val_precision: 0.7591 - val_recall: 0.5969\n",
      "Epoch 2/4\n",
      "625/625 [==============================] - 236s 377ms/step - loss: 0.5572 - accuracy: 0.7262 - precision: 0.7391 - recall: 0.6949 - val_loss: 0.5472 - val_accuracy: 0.7285 - val_precision: 0.7367 - val_recall: 0.7103\n",
      "Epoch 3/4\n",
      "625/625 [==============================] - 235s 376ms/step - loss: 0.5289 - accuracy: 0.7449 - precision: 0.7602 - recall: 0.7213 - val_loss: 0.5472 - val_accuracy: 0.7301 - val_precision: 0.7412 - val_recall: 0.7060\n",
      "Epoch 4/4\n",
      "625/625 [==============================] - 235s 376ms/step - loss: 0.5111 - accuracy: 0.7576 - precision: 0.7700 - recall: 0.7438 - val_loss: 0.5424 - val_accuracy: 0.7347 - val_precision: 0.7443 - val_recall: 0.7141\n"
     ]
    }
   ],
   "source": [
    "# train on sample of 50k\n",
    "\n",
    "history2 = model2.fit(sample_X_train_balanced, sample_y_train_balanced, \n",
    "                    epochs=4, \n",
    "                    batch_size=64,\n",
    "                    validation_split=0.2,\n",
    "                    verbose = 1,\n",
    "                    callbacks=[EarlyStopping(monitor='val_loss', patience=3, min_delta=0.0001)])"
   ]
  },
  {
   "cell_type": "code",
   "execution_count": 126,
   "id": "ba416ca5",
   "metadata": {},
   "outputs": [
    {
     "name": "stdout",
     "output_type": "stream",
     "text": [
      "Epoch 1/3\n",
      "  47/6824 [..............................] - ETA: 52:11 - loss: 0.6931 - accuracy: 0.4897 - precision: 0.4982 - recall: 0.6254"
     ]
    },
    {
     "ename": "KeyboardInterrupt",
     "evalue": "",
     "output_type": "error",
     "traceback": [
      "\u001b[0;31m---------------------------------------------------------------------------\u001b[0m",
      "\u001b[0;31mKeyboardInterrupt\u001b[0m                         Traceback (most recent call last)",
      "\u001b[0;32m<ipython-input-126-e9b9ee11a238>\u001b[0m in \u001b[0;36m<module>\u001b[0;34m\u001b[0m\n\u001b[1;32m      1\u001b[0m \u001b[0;31m# make sure to reinstantiate model\u001b[0m\u001b[0;34m\u001b[0m\u001b[0;34m\u001b[0m\u001b[0;34m\u001b[0m\u001b[0m\n\u001b[1;32m      2\u001b[0m \u001b[0;34m\u001b[0m\u001b[0m\n\u001b[0;32m----> 3\u001b[0;31m history2 = model2.fit(X_train_balanced, y_train_balanced, \n\u001b[0m\u001b[1;32m      4\u001b[0m                     \u001b[0mepochs\u001b[0m\u001b[0;34m=\u001b[0m\u001b[0;36m3\u001b[0m\u001b[0;34m,\u001b[0m\u001b[0;34m\u001b[0m\u001b[0;34m\u001b[0m\u001b[0m\n\u001b[1;32m      5\u001b[0m                     \u001b[0mbatch_size\u001b[0m\u001b[0;34m=\u001b[0m\u001b[0;36m64\u001b[0m\u001b[0;34m,\u001b[0m\u001b[0;34m\u001b[0m\u001b[0;34m\u001b[0m\u001b[0m\n",
      "\u001b[0;32m~/opt/anaconda3/lib/python3.8/site-packages/tensorflow/python/keras/engine/training.py\u001b[0m in \u001b[0;36mfit\u001b[0;34m(self, x, y, batch_size, epochs, verbose, callbacks, validation_split, validation_data, shuffle, class_weight, sample_weight, initial_epoch, steps_per_epoch, validation_steps, validation_batch_size, validation_freq, max_queue_size, workers, use_multiprocessing)\u001b[0m\n\u001b[1;32m   1098\u001b[0m                 _r=1):\n\u001b[1;32m   1099\u001b[0m               \u001b[0mcallbacks\u001b[0m\u001b[0;34m.\u001b[0m\u001b[0mon_train_batch_begin\u001b[0m\u001b[0;34m(\u001b[0m\u001b[0mstep\u001b[0m\u001b[0;34m)\u001b[0m\u001b[0;34m\u001b[0m\u001b[0;34m\u001b[0m\u001b[0m\n\u001b[0;32m-> 1100\u001b[0;31m               \u001b[0mtmp_logs\u001b[0m \u001b[0;34m=\u001b[0m \u001b[0mself\u001b[0m\u001b[0;34m.\u001b[0m\u001b[0mtrain_function\u001b[0m\u001b[0;34m(\u001b[0m\u001b[0miterator\u001b[0m\u001b[0;34m)\u001b[0m\u001b[0;34m\u001b[0m\u001b[0;34m\u001b[0m\u001b[0m\n\u001b[0m\u001b[1;32m   1101\u001b[0m               \u001b[0;32mif\u001b[0m \u001b[0mdata_handler\u001b[0m\u001b[0;34m.\u001b[0m\u001b[0mshould_sync\u001b[0m\u001b[0;34m:\u001b[0m\u001b[0;34m\u001b[0m\u001b[0;34m\u001b[0m\u001b[0m\n\u001b[1;32m   1102\u001b[0m                 \u001b[0mcontext\u001b[0m\u001b[0;34m.\u001b[0m\u001b[0masync_wait\u001b[0m\u001b[0;34m(\u001b[0m\u001b[0;34m)\u001b[0m\u001b[0;34m\u001b[0m\u001b[0;34m\u001b[0m\u001b[0m\n",
      "\u001b[0;32m~/opt/anaconda3/lib/python3.8/site-packages/tensorflow/python/eager/def_function.py\u001b[0m in \u001b[0;36m__call__\u001b[0;34m(self, *args, **kwds)\u001b[0m\n\u001b[1;32m    826\u001b[0m     \u001b[0mtracing_count\u001b[0m \u001b[0;34m=\u001b[0m \u001b[0mself\u001b[0m\u001b[0;34m.\u001b[0m\u001b[0mexperimental_get_tracing_count\u001b[0m\u001b[0;34m(\u001b[0m\u001b[0;34m)\u001b[0m\u001b[0;34m\u001b[0m\u001b[0;34m\u001b[0m\u001b[0m\n\u001b[1;32m    827\u001b[0m     \u001b[0;32mwith\u001b[0m \u001b[0mtrace\u001b[0m\u001b[0;34m.\u001b[0m\u001b[0mTrace\u001b[0m\u001b[0;34m(\u001b[0m\u001b[0mself\u001b[0m\u001b[0;34m.\u001b[0m\u001b[0m_name\u001b[0m\u001b[0;34m)\u001b[0m \u001b[0;32mas\u001b[0m \u001b[0mtm\u001b[0m\u001b[0;34m:\u001b[0m\u001b[0;34m\u001b[0m\u001b[0;34m\u001b[0m\u001b[0m\n\u001b[0;32m--> 828\u001b[0;31m       \u001b[0mresult\u001b[0m \u001b[0;34m=\u001b[0m \u001b[0mself\u001b[0m\u001b[0;34m.\u001b[0m\u001b[0m_call\u001b[0m\u001b[0;34m(\u001b[0m\u001b[0;34m*\u001b[0m\u001b[0margs\u001b[0m\u001b[0;34m,\u001b[0m \u001b[0;34m**\u001b[0m\u001b[0mkwds\u001b[0m\u001b[0;34m)\u001b[0m\u001b[0;34m\u001b[0m\u001b[0;34m\u001b[0m\u001b[0m\n\u001b[0m\u001b[1;32m    829\u001b[0m       \u001b[0mcompiler\u001b[0m \u001b[0;34m=\u001b[0m \u001b[0;34m\"xla\"\u001b[0m \u001b[0;32mif\u001b[0m \u001b[0mself\u001b[0m\u001b[0;34m.\u001b[0m\u001b[0m_experimental_compile\u001b[0m \u001b[0;32melse\u001b[0m \u001b[0;34m\"nonXla\"\u001b[0m\u001b[0;34m\u001b[0m\u001b[0;34m\u001b[0m\u001b[0m\n\u001b[1;32m    830\u001b[0m       \u001b[0mnew_tracing_count\u001b[0m \u001b[0;34m=\u001b[0m \u001b[0mself\u001b[0m\u001b[0;34m.\u001b[0m\u001b[0mexperimental_get_tracing_count\u001b[0m\u001b[0;34m(\u001b[0m\u001b[0;34m)\u001b[0m\u001b[0;34m\u001b[0m\u001b[0;34m\u001b[0m\u001b[0m\n",
      "\u001b[0;32m~/opt/anaconda3/lib/python3.8/site-packages/tensorflow/python/eager/def_function.py\u001b[0m in \u001b[0;36m_call\u001b[0;34m(self, *args, **kwds)\u001b[0m\n\u001b[1;32m    853\u001b[0m       \u001b[0;31m# In this case we have created variables on the first call, so we run the\u001b[0m\u001b[0;34m\u001b[0m\u001b[0;34m\u001b[0m\u001b[0;34m\u001b[0m\u001b[0m\n\u001b[1;32m    854\u001b[0m       \u001b[0;31m# defunned version which is guaranteed to never create variables.\u001b[0m\u001b[0;34m\u001b[0m\u001b[0;34m\u001b[0m\u001b[0;34m\u001b[0m\u001b[0m\n\u001b[0;32m--> 855\u001b[0;31m       \u001b[0;32mreturn\u001b[0m \u001b[0mself\u001b[0m\u001b[0;34m.\u001b[0m\u001b[0m_stateless_fn\u001b[0m\u001b[0;34m(\u001b[0m\u001b[0;34m*\u001b[0m\u001b[0margs\u001b[0m\u001b[0;34m,\u001b[0m \u001b[0;34m**\u001b[0m\u001b[0mkwds\u001b[0m\u001b[0;34m)\u001b[0m  \u001b[0;31m# pylint: disable=not-callable\u001b[0m\u001b[0;34m\u001b[0m\u001b[0;34m\u001b[0m\u001b[0m\n\u001b[0m\u001b[1;32m    856\u001b[0m     \u001b[0;32melif\u001b[0m \u001b[0mself\u001b[0m\u001b[0;34m.\u001b[0m\u001b[0m_stateful_fn\u001b[0m \u001b[0;32mis\u001b[0m \u001b[0;32mnot\u001b[0m \u001b[0;32mNone\u001b[0m\u001b[0;34m:\u001b[0m\u001b[0;34m\u001b[0m\u001b[0;34m\u001b[0m\u001b[0m\n\u001b[1;32m    857\u001b[0m       \u001b[0;31m# Release the lock early so that multiple threads can perform the call\u001b[0m\u001b[0;34m\u001b[0m\u001b[0;34m\u001b[0m\u001b[0;34m\u001b[0m\u001b[0m\n",
      "\u001b[0;32m~/opt/anaconda3/lib/python3.8/site-packages/tensorflow/python/eager/function.py\u001b[0m in \u001b[0;36m__call__\u001b[0;34m(self, *args, **kwargs)\u001b[0m\n\u001b[1;32m   2940\u001b[0m       (graph_function,\n\u001b[1;32m   2941\u001b[0m        filtered_flat_args) = self._maybe_define_function(args, kwargs)\n\u001b[0;32m-> 2942\u001b[0;31m     return graph_function._call_flat(\n\u001b[0m\u001b[1;32m   2943\u001b[0m         filtered_flat_args, captured_inputs=graph_function.captured_inputs)  # pylint: disable=protected-access\n\u001b[1;32m   2944\u001b[0m \u001b[0;34m\u001b[0m\u001b[0m\n",
      "\u001b[0;32m~/opt/anaconda3/lib/python3.8/site-packages/tensorflow/python/eager/function.py\u001b[0m in \u001b[0;36m_call_flat\u001b[0;34m(self, args, captured_inputs, cancellation_manager)\u001b[0m\n\u001b[1;32m   1916\u001b[0m         and executing_eagerly):\n\u001b[1;32m   1917\u001b[0m       \u001b[0;31m# No tape is watching; skip to running the function.\u001b[0m\u001b[0;34m\u001b[0m\u001b[0;34m\u001b[0m\u001b[0;34m\u001b[0m\u001b[0m\n\u001b[0;32m-> 1918\u001b[0;31m       return self._build_call_outputs(self._inference_function.call(\n\u001b[0m\u001b[1;32m   1919\u001b[0m           ctx, args, cancellation_manager=cancellation_manager))\n\u001b[1;32m   1920\u001b[0m     forward_backward = self._select_forward_and_backward_functions(\n",
      "\u001b[0;32m~/opt/anaconda3/lib/python3.8/site-packages/tensorflow/python/eager/function.py\u001b[0m in \u001b[0;36mcall\u001b[0;34m(self, ctx, args, cancellation_manager)\u001b[0m\n\u001b[1;32m    553\u001b[0m       \u001b[0;32mwith\u001b[0m \u001b[0m_InterpolateFunctionError\u001b[0m\u001b[0;34m(\u001b[0m\u001b[0mself\u001b[0m\u001b[0;34m)\u001b[0m\u001b[0;34m:\u001b[0m\u001b[0;34m\u001b[0m\u001b[0;34m\u001b[0m\u001b[0m\n\u001b[1;32m    554\u001b[0m         \u001b[0;32mif\u001b[0m \u001b[0mcancellation_manager\u001b[0m \u001b[0;32mis\u001b[0m \u001b[0;32mNone\u001b[0m\u001b[0;34m:\u001b[0m\u001b[0;34m\u001b[0m\u001b[0;34m\u001b[0m\u001b[0m\n\u001b[0;32m--> 555\u001b[0;31m           outputs = execute.execute(\n\u001b[0m\u001b[1;32m    556\u001b[0m               \u001b[0mstr\u001b[0m\u001b[0;34m(\u001b[0m\u001b[0mself\u001b[0m\u001b[0;34m.\u001b[0m\u001b[0msignature\u001b[0m\u001b[0;34m.\u001b[0m\u001b[0mname\u001b[0m\u001b[0;34m)\u001b[0m\u001b[0;34m,\u001b[0m\u001b[0;34m\u001b[0m\u001b[0;34m\u001b[0m\u001b[0m\n\u001b[1;32m    557\u001b[0m               \u001b[0mnum_outputs\u001b[0m\u001b[0;34m=\u001b[0m\u001b[0mself\u001b[0m\u001b[0;34m.\u001b[0m\u001b[0m_num_outputs\u001b[0m\u001b[0;34m,\u001b[0m\u001b[0;34m\u001b[0m\u001b[0;34m\u001b[0m\u001b[0m\n",
      "\u001b[0;32m~/opt/anaconda3/lib/python3.8/site-packages/tensorflow/python/eager/execute.py\u001b[0m in \u001b[0;36mquick_execute\u001b[0;34m(op_name, num_outputs, inputs, attrs, ctx, name)\u001b[0m\n\u001b[1;32m     57\u001b[0m   \u001b[0;32mtry\u001b[0m\u001b[0;34m:\u001b[0m\u001b[0;34m\u001b[0m\u001b[0;34m\u001b[0m\u001b[0m\n\u001b[1;32m     58\u001b[0m     \u001b[0mctx\u001b[0m\u001b[0;34m.\u001b[0m\u001b[0mensure_initialized\u001b[0m\u001b[0;34m(\u001b[0m\u001b[0;34m)\u001b[0m\u001b[0;34m\u001b[0m\u001b[0;34m\u001b[0m\u001b[0m\n\u001b[0;32m---> 59\u001b[0;31m     tensors = pywrap_tfe.TFE_Py_Execute(ctx._handle, device_name, op_name,\n\u001b[0m\u001b[1;32m     60\u001b[0m                                         inputs, attrs, num_outputs)\n\u001b[1;32m     61\u001b[0m   \u001b[0;32mexcept\u001b[0m \u001b[0mcore\u001b[0m\u001b[0;34m.\u001b[0m\u001b[0m_NotOkStatusException\u001b[0m \u001b[0;32mas\u001b[0m \u001b[0me\u001b[0m\u001b[0;34m:\u001b[0m\u001b[0;34m\u001b[0m\u001b[0;34m\u001b[0m\u001b[0m\n",
      "\u001b[0;31mKeyboardInterrupt\u001b[0m: "
     ]
    }
   ],
   "source": [
    "# make sure to reinstantiate model\n",
    "\n",
    "history2 = model2.fit(X_train_balanced, y_train_balanced, \n",
    "                    epochs=3, \n",
    "                    batch_size=64,\n",
    "                    validation_split=0.2,\n",
    "                    verbose = 1,\n",
    "                    callbacks=[EarlyStopping(monitor='val_loss', patience=3, min_delta=0.0001)])"
   ]
  },
  {
   "cell_type": "code",
   "execution_count": null,
   "id": "cce3379c",
   "metadata": {},
   "outputs": [],
   "source": [
    "# save model\n",
    "model2.save('LSTM2.h5')"
   ]
  },
  {
   "cell_type": "code",
   "execution_count": null,
   "id": "d0850e1c",
   "metadata": {},
   "outputs": [],
   "source": [
    "# save history\n",
    "\n",
    "hist2_df = pd.DataFrame(history2.history)\n",
    "\n",
    "hist2 = 'history2.csv'\n",
    "with open(hist2, mode='w') as f:\n",
    "    hist2_df.to_csv(f)"
   ]
  },
  {
   "cell_type": "code",
   "execution_count": 83,
   "id": "fe6ada46",
   "metadata": {
    "scrolled": true
   },
   "outputs": [
    {
     "name": "stdout",
     "output_type": "stream",
     "text": [
      "  606/53972 [..............................] - ETA: 51:27 - loss: 0.5387 - accuracy: 0.7502 - precision: 0.1034 - recall: 0.7120"
     ]
    },
    {
     "ename": "KeyboardInterrupt",
     "evalue": "",
     "output_type": "error",
     "traceback": [
      "\u001b[0;31m---------------------------------------------------------------------------\u001b[0m",
      "\u001b[0;31mKeyboardInterrupt\u001b[0m                         Traceback (most recent call last)",
      "\u001b[0;32m<ipython-input-83-1d080490eb92>\u001b[0m in \u001b[0;36m<module>\u001b[0;34m\u001b[0m\n\u001b[1;32m      1\u001b[0m \u001b[0;31m## evaluate model\u001b[0m\u001b[0;34m\u001b[0m\u001b[0;34m\u001b[0m\u001b[0;34m\u001b[0m\u001b[0m\n\u001b[1;32m      2\u001b[0m \u001b[0;34m\u001b[0m\u001b[0m\n\u001b[0;32m----> 3\u001b[0;31m \u001b[0mscores2\u001b[0m \u001b[0;34m=\u001b[0m \u001b[0mmodel2\u001b[0m\u001b[0;34m.\u001b[0m\u001b[0mevaluate\u001b[0m\u001b[0;34m(\u001b[0m\u001b[0mX_test\u001b[0m\u001b[0;34m,\u001b[0m \u001b[0my_test\u001b[0m\u001b[0;34m)\u001b[0m\u001b[0;34m\u001b[0m\u001b[0;34m\u001b[0m\u001b[0m\n\u001b[0m",
      "\u001b[0;32m~/opt/anaconda3/lib/python3.8/site-packages/tensorflow/python/keras/engine/training.py\u001b[0m in \u001b[0;36mevaluate\u001b[0;34m(self, x, y, batch_size, verbose, sample_weight, steps, callbacks, max_queue_size, workers, use_multiprocessing, return_dict)\u001b[0m\n\u001b[1;32m   1387\u001b[0m             \u001b[0;32mwith\u001b[0m \u001b[0mtrace\u001b[0m\u001b[0;34m.\u001b[0m\u001b[0mTrace\u001b[0m\u001b[0;34m(\u001b[0m\u001b[0;34m'test'\u001b[0m\u001b[0;34m,\u001b[0m \u001b[0mstep_num\u001b[0m\u001b[0;34m=\u001b[0m\u001b[0mstep\u001b[0m\u001b[0;34m,\u001b[0m \u001b[0m_r\u001b[0m\u001b[0;34m=\u001b[0m\u001b[0;36m1\u001b[0m\u001b[0;34m)\u001b[0m\u001b[0;34m:\u001b[0m\u001b[0;34m\u001b[0m\u001b[0;34m\u001b[0m\u001b[0m\n\u001b[1;32m   1388\u001b[0m               \u001b[0mcallbacks\u001b[0m\u001b[0;34m.\u001b[0m\u001b[0mon_test_batch_begin\u001b[0m\u001b[0;34m(\u001b[0m\u001b[0mstep\u001b[0m\u001b[0;34m)\u001b[0m\u001b[0;34m\u001b[0m\u001b[0;34m\u001b[0m\u001b[0m\n\u001b[0;32m-> 1389\u001b[0;31m               \u001b[0mtmp_logs\u001b[0m \u001b[0;34m=\u001b[0m \u001b[0mself\u001b[0m\u001b[0;34m.\u001b[0m\u001b[0mtest_function\u001b[0m\u001b[0;34m(\u001b[0m\u001b[0miterator\u001b[0m\u001b[0;34m)\u001b[0m\u001b[0;34m\u001b[0m\u001b[0;34m\u001b[0m\u001b[0m\n\u001b[0m\u001b[1;32m   1390\u001b[0m               \u001b[0;32mif\u001b[0m \u001b[0mdata_handler\u001b[0m\u001b[0;34m.\u001b[0m\u001b[0mshould_sync\u001b[0m\u001b[0;34m:\u001b[0m\u001b[0;34m\u001b[0m\u001b[0;34m\u001b[0m\u001b[0m\n\u001b[1;32m   1391\u001b[0m                 \u001b[0mcontext\u001b[0m\u001b[0;34m.\u001b[0m\u001b[0masync_wait\u001b[0m\u001b[0;34m(\u001b[0m\u001b[0;34m)\u001b[0m\u001b[0;34m\u001b[0m\u001b[0;34m\u001b[0m\u001b[0m\n",
      "\u001b[0;32m~/opt/anaconda3/lib/python3.8/site-packages/tensorflow/python/eager/def_function.py\u001b[0m in \u001b[0;36m__call__\u001b[0;34m(self, *args, **kwds)\u001b[0m\n\u001b[1;32m    826\u001b[0m     \u001b[0mtracing_count\u001b[0m \u001b[0;34m=\u001b[0m \u001b[0mself\u001b[0m\u001b[0;34m.\u001b[0m\u001b[0mexperimental_get_tracing_count\u001b[0m\u001b[0;34m(\u001b[0m\u001b[0;34m)\u001b[0m\u001b[0;34m\u001b[0m\u001b[0;34m\u001b[0m\u001b[0m\n\u001b[1;32m    827\u001b[0m     \u001b[0;32mwith\u001b[0m \u001b[0mtrace\u001b[0m\u001b[0;34m.\u001b[0m\u001b[0mTrace\u001b[0m\u001b[0;34m(\u001b[0m\u001b[0mself\u001b[0m\u001b[0;34m.\u001b[0m\u001b[0m_name\u001b[0m\u001b[0;34m)\u001b[0m \u001b[0;32mas\u001b[0m \u001b[0mtm\u001b[0m\u001b[0;34m:\u001b[0m\u001b[0;34m\u001b[0m\u001b[0;34m\u001b[0m\u001b[0m\n\u001b[0;32m--> 828\u001b[0;31m       \u001b[0mresult\u001b[0m \u001b[0;34m=\u001b[0m \u001b[0mself\u001b[0m\u001b[0;34m.\u001b[0m\u001b[0m_call\u001b[0m\u001b[0;34m(\u001b[0m\u001b[0;34m*\u001b[0m\u001b[0margs\u001b[0m\u001b[0;34m,\u001b[0m \u001b[0;34m**\u001b[0m\u001b[0mkwds\u001b[0m\u001b[0;34m)\u001b[0m\u001b[0;34m\u001b[0m\u001b[0;34m\u001b[0m\u001b[0m\n\u001b[0m\u001b[1;32m    829\u001b[0m       \u001b[0mcompiler\u001b[0m \u001b[0;34m=\u001b[0m \u001b[0;34m\"xla\"\u001b[0m \u001b[0;32mif\u001b[0m \u001b[0mself\u001b[0m\u001b[0;34m.\u001b[0m\u001b[0m_experimental_compile\u001b[0m \u001b[0;32melse\u001b[0m \u001b[0;34m\"nonXla\"\u001b[0m\u001b[0;34m\u001b[0m\u001b[0;34m\u001b[0m\u001b[0m\n\u001b[1;32m    830\u001b[0m       \u001b[0mnew_tracing_count\u001b[0m \u001b[0;34m=\u001b[0m \u001b[0mself\u001b[0m\u001b[0;34m.\u001b[0m\u001b[0mexperimental_get_tracing_count\u001b[0m\u001b[0;34m(\u001b[0m\u001b[0;34m)\u001b[0m\u001b[0;34m\u001b[0m\u001b[0;34m\u001b[0m\u001b[0m\n",
      "\u001b[0;32m~/opt/anaconda3/lib/python3.8/site-packages/tensorflow/python/eager/def_function.py\u001b[0m in \u001b[0;36m_call\u001b[0;34m(self, *args, **kwds)\u001b[0m\n\u001b[1;32m    860\u001b[0m       \u001b[0;31m# In this case we have not created variables on the first call. So we can\u001b[0m\u001b[0;34m\u001b[0m\u001b[0;34m\u001b[0m\u001b[0;34m\u001b[0m\u001b[0m\n\u001b[1;32m    861\u001b[0m       \u001b[0;31m# run the first trace but we should fail if variables are created.\u001b[0m\u001b[0;34m\u001b[0m\u001b[0;34m\u001b[0m\u001b[0;34m\u001b[0m\u001b[0m\n\u001b[0;32m--> 862\u001b[0;31m       \u001b[0mresults\u001b[0m \u001b[0;34m=\u001b[0m \u001b[0mself\u001b[0m\u001b[0;34m.\u001b[0m\u001b[0m_stateful_fn\u001b[0m\u001b[0;34m(\u001b[0m\u001b[0;34m*\u001b[0m\u001b[0margs\u001b[0m\u001b[0;34m,\u001b[0m \u001b[0;34m**\u001b[0m\u001b[0mkwds\u001b[0m\u001b[0;34m)\u001b[0m\u001b[0;34m\u001b[0m\u001b[0;34m\u001b[0m\u001b[0m\n\u001b[0m\u001b[1;32m    863\u001b[0m       \u001b[0;32mif\u001b[0m \u001b[0mself\u001b[0m\u001b[0;34m.\u001b[0m\u001b[0m_created_variables\u001b[0m\u001b[0;34m:\u001b[0m\u001b[0;34m\u001b[0m\u001b[0;34m\u001b[0m\u001b[0m\n\u001b[1;32m    864\u001b[0m         raise ValueError(\"Creating variables on a non-first call to a function\"\n",
      "\u001b[0;32m~/opt/anaconda3/lib/python3.8/site-packages/tensorflow/python/eager/function.py\u001b[0m in \u001b[0;36m__call__\u001b[0;34m(self, *args, **kwargs)\u001b[0m\n\u001b[1;32m   2940\u001b[0m       (graph_function,\n\u001b[1;32m   2941\u001b[0m        filtered_flat_args) = self._maybe_define_function(args, kwargs)\n\u001b[0;32m-> 2942\u001b[0;31m     return graph_function._call_flat(\n\u001b[0m\u001b[1;32m   2943\u001b[0m         filtered_flat_args, captured_inputs=graph_function.captured_inputs)  # pylint: disable=protected-access\n\u001b[1;32m   2944\u001b[0m \u001b[0;34m\u001b[0m\u001b[0m\n",
      "\u001b[0;32m~/opt/anaconda3/lib/python3.8/site-packages/tensorflow/python/eager/function.py\u001b[0m in \u001b[0;36m_call_flat\u001b[0;34m(self, args, captured_inputs, cancellation_manager)\u001b[0m\n\u001b[1;32m   1916\u001b[0m         and executing_eagerly):\n\u001b[1;32m   1917\u001b[0m       \u001b[0;31m# No tape is watching; skip to running the function.\u001b[0m\u001b[0;34m\u001b[0m\u001b[0;34m\u001b[0m\u001b[0;34m\u001b[0m\u001b[0m\n\u001b[0;32m-> 1918\u001b[0;31m       return self._build_call_outputs(self._inference_function.call(\n\u001b[0m\u001b[1;32m   1919\u001b[0m           ctx, args, cancellation_manager=cancellation_manager))\n\u001b[1;32m   1920\u001b[0m     forward_backward = self._select_forward_and_backward_functions(\n",
      "\u001b[0;32m~/opt/anaconda3/lib/python3.8/site-packages/tensorflow/python/eager/function.py\u001b[0m in \u001b[0;36mcall\u001b[0;34m(self, ctx, args, cancellation_manager)\u001b[0m\n\u001b[1;32m    553\u001b[0m       \u001b[0;32mwith\u001b[0m \u001b[0m_InterpolateFunctionError\u001b[0m\u001b[0;34m(\u001b[0m\u001b[0mself\u001b[0m\u001b[0;34m)\u001b[0m\u001b[0;34m:\u001b[0m\u001b[0;34m\u001b[0m\u001b[0;34m\u001b[0m\u001b[0m\n\u001b[1;32m    554\u001b[0m         \u001b[0;32mif\u001b[0m \u001b[0mcancellation_manager\u001b[0m \u001b[0;32mis\u001b[0m \u001b[0;32mNone\u001b[0m\u001b[0;34m:\u001b[0m\u001b[0;34m\u001b[0m\u001b[0;34m\u001b[0m\u001b[0m\n\u001b[0;32m--> 555\u001b[0;31m           outputs = execute.execute(\n\u001b[0m\u001b[1;32m    556\u001b[0m               \u001b[0mstr\u001b[0m\u001b[0;34m(\u001b[0m\u001b[0mself\u001b[0m\u001b[0;34m.\u001b[0m\u001b[0msignature\u001b[0m\u001b[0;34m.\u001b[0m\u001b[0mname\u001b[0m\u001b[0;34m)\u001b[0m\u001b[0;34m,\u001b[0m\u001b[0;34m\u001b[0m\u001b[0;34m\u001b[0m\u001b[0m\n\u001b[1;32m    557\u001b[0m               \u001b[0mnum_outputs\u001b[0m\u001b[0;34m=\u001b[0m\u001b[0mself\u001b[0m\u001b[0;34m.\u001b[0m\u001b[0m_num_outputs\u001b[0m\u001b[0;34m,\u001b[0m\u001b[0;34m\u001b[0m\u001b[0;34m\u001b[0m\u001b[0m\n",
      "\u001b[0;32m~/opt/anaconda3/lib/python3.8/site-packages/tensorflow/python/eager/execute.py\u001b[0m in \u001b[0;36mquick_execute\u001b[0;34m(op_name, num_outputs, inputs, attrs, ctx, name)\u001b[0m\n\u001b[1;32m     57\u001b[0m   \u001b[0;32mtry\u001b[0m\u001b[0;34m:\u001b[0m\u001b[0;34m\u001b[0m\u001b[0;34m\u001b[0m\u001b[0m\n\u001b[1;32m     58\u001b[0m     \u001b[0mctx\u001b[0m\u001b[0;34m.\u001b[0m\u001b[0mensure_initialized\u001b[0m\u001b[0;34m(\u001b[0m\u001b[0;34m)\u001b[0m\u001b[0;34m\u001b[0m\u001b[0;34m\u001b[0m\u001b[0m\n\u001b[0;32m---> 59\u001b[0;31m     tensors = pywrap_tfe.TFE_Py_Execute(ctx._handle, device_name, op_name,\n\u001b[0m\u001b[1;32m     60\u001b[0m                                         inputs, attrs, num_outputs)\n\u001b[1;32m     61\u001b[0m   \u001b[0;32mexcept\u001b[0m \u001b[0mcore\u001b[0m\u001b[0;34m.\u001b[0m\u001b[0m_NotOkStatusException\u001b[0m \u001b[0;32mas\u001b[0m \u001b[0me\u001b[0m\u001b[0;34m:\u001b[0m\u001b[0;34m\u001b[0m\u001b[0;34m\u001b[0m\u001b[0m\n",
      "\u001b[0;31mKeyboardInterrupt\u001b[0m: "
     ]
    }
   ],
   "source": [
    "## evaluate model\n",
    "\n",
    "scores2 = model2.evaluate(X_test, y_test)"
   ]
  },
  {
   "cell_type": "code",
   "execution_count": null,
   "id": "27e589f8",
   "metadata": {},
   "outputs": [],
   "source": [
    "print('Test set\\n  Loss: {:0.4f}\\n  Accuracy: {:0.4f}\\n  Precision: {:0.4}\\n  Recall: {:0.4f}'.format(scores2[0],scores2[1], scores2[2], scores2[3]))\n"
   ]
  },
  {
   "cell_type": "code",
   "execution_count": 69,
   "id": "f776aead",
   "metadata": {},
   "outputs": [
    {
     "data": {
      "text/plain": [
       "<matplotlib.legend.Legend at 0x7fe8d2bf5430>"
      ]
     },
     "execution_count": 69,
     "metadata": {},
     "output_type": "execute_result"
    },
    {
     "data": {
      "image/png": "[encoded data removed]",
      "text/plain": [
       "<Figure size 432x288 with 1 Axes>"
      ]
     },
     "metadata": {},
     "output_type": "display_data"
    }
   ],
   "source": [
    "# plot loss\n",
    "\n",
    "plt.title('Loss')\n",
    "plt.plot(history2.history['loss'], label='train')\n",
    "plt.plot(history2.history['val_loss'], label='test')\n",
    "plt.ylabel('loss')\n",
    "plt.xlabel('epoch')\n",
    "plt.legend();\n",
    "#plt.show();\n",
    "#plt.savefig('imgs/LSTM2_loss', bbox_inches='tight')"
   ]
  },
  {
   "cell_type": "code",
   "execution_count": 74,
   "id": "62184819",
   "metadata": {},
   "outputs": [
    {
     "data": {
      "image/png": "[encoded data removed]",
      "text/plain": [
       "<Figure size 432x288 with 1 Axes>"
      ]
     },
     "metadata": {},
     "output_type": "display_data"
    }
   ],
   "source": [
    "# plot loss\n",
    "\n",
    "plt.title('Loss')\n",
    "plt.plot(history2.history['loss'], label='train')\n",
    "plt.plot(history2.history['val_loss'], label='test')\n",
    "plt.ylabel('loss')\n",
    "plt.xlabel('epoch')\n",
    "plt.legend();\n",
    "#plt.show();\n",
    "#plt.savefig('imgs/LSTM2_loss', bbox_inches='tight')"
   ]
  },
  {
   "cell_type": "code",
   "execution_count": 70,
   "id": "6144cea3",
   "metadata": {},
   "outputs": [
    {
     "data": {
      "image/png": "[encoded data removed]",
      "text/plain": [
       "<Figure size 432x288 with 1 Axes>"
      ]
     },
     "metadata": {},
     "output_type": "display_data"
    }
   ],
   "source": [
    "# plot precision\n",
    "\n",
    "plt.title('Precision')\n",
    "plt.plot(history2.history['precision'], label='train')\n",
    "plt.plot(history2.history['val_precision'], label='test')\n",
    "plt.ylabel('precision')\n",
    "plt.xlabel('epoch')\n",
    "plt.legend();\n",
    "#plt.show();\n",
    "#plt.savefig('imgs/LSTM2_precision', bbox_inches='tight')"
   ]
  },
  {
   "cell_type": "code",
   "execution_count": 75,
   "id": "0a55a909",
   "metadata": {},
   "outputs": [
    {
     "data": {
      "image/png": "[encoded data removed]",
      "text/plain": [
       "<Figure size 432x288 with 1 Axes>"
      ]
     },
     "metadata": {},
     "output_type": "display_data"
    }
   ],
   "source": [
    "# plot precision\n",
    "\n",
    "plt.title('Precision')\n",
    "plt.plot(history2.history['precision'], label='train')\n",
    "plt.plot(history2.history['val_precision'], label='test')\n",
    "plt.ylabel('precision')\n",
    "plt.xlabel('epoch')\n",
    "plt.legend();\n",
    "#plt.show();\n",
    "#plt.savefig('imgs/LSTM2_precision', bbox_inches='tight')"
   ]
  },
  {
   "cell_type": "code",
   "execution_count": 71,
   "id": "0493a7ac",
   "metadata": {},
   "outputs": [
    {
     "data": {
      "image/png": "[encoded data removed]",
      "text/plain": [
       "<Figure size 432x288 with 1 Axes>"
      ]
     },
     "metadata": {},
     "output_type": "display_data"
    }
   ],
   "source": [
    "# plot recall\n",
    "\n",
    "plt.title('Recall')\n",
    "plt.plot(history2.history['recall'], label='train')\n",
    "plt.plot(history2.history['val_recall'], label='test')\n",
    "plt.ylabel('precision')\n",
    "plt.xlabel('epoch')\n",
    "plt.legend();\n",
    "#plt.show();\n",
    "#plt.savefig('imgs/LSTM2_precision', bbox_inches='tight')"
   ]
  },
  {
   "cell_type": "code",
   "execution_count": 76,
   "id": "f843a7f1",
   "metadata": {},
   "outputs": [
    {
     "data": {
      "image/png": "[encoded data removed]",
      "text/plain": [
       "<Figure size 432x288 with 1 Axes>"
      ]
     },
     "metadata": {},
     "output_type": "display_data"
    }
   ],
   "source": [
    "# plot recall\n",
    "\n",
    "plt.title('Recall')\n",
    "plt.plot(history2.history['recall'], label='train')\n",
    "plt.plot(history2.history['val_recall'], label='test')\n",
    "plt.ylabel('precision')\n",
    "plt.xlabel('epoch')\n",
    "plt.legend();\n",
    "#plt.show();\n",
    "#plt.savefig('imgs/LSTM2_precision', bbox_inches='tight')"
   ]
  },
  {
   "cell_type": "markdown",
   "id": "b4159e83",
   "metadata": {},
   "source": [
    "#### Bidirectional LSTM layer"
   ]
  },
  {
   "cell_type": "code",
   "execution_count": 99,
   "id": "d7ada9ea",
   "metadata": {},
   "outputs": [
    {
     "name": "stdout",
     "output_type": "stream",
     "text": [
      "Model: \"sequential_10\"\n",
      "_________________________________________________________________\n",
      "Layer (type)                 Output Shape              Param #   \n",
      "=================================================================\n",
      "embedding_10 (Embedding)     (None, 200, 100)          1000000   \n",
      "_________________________________________________________________\n",
      "spatial_dropout1d_10 (Spatia (None, 200, 100)          0         \n",
      "_________________________________________________________________\n",
      "bidirectional_4 (Bidirection (None, 100)               60400     \n",
      "_________________________________________________________________\n",
      "dense_10 (Dense)             (None, 1)                 101       \n",
      "=================================================================\n",
      "Total params: 1,060,501\n",
      "Trainable params: 1,060,501\n",
      "Non-trainable params: 0\n",
      "_________________________________________________________________\n",
      "None\n"
     ]
    }
   ],
   "source": [
    "# bidirectional LSTM layer\n",
    "\n",
    "model3 = Sequential()\n",
    "model3.add(Embedding(10000, 100, input_length=X.shape[1]))\n",
    "model3.add(SpatialDropout1D(0.4)) # start at 0\n",
    "model3.add(Bidirectional(LSTM(50))) # bidirectional layer\n",
    "#model.add(Dropout(0.5))\n",
    "model3.add(Dense(1, activation='sigmoid'))\n",
    "\n",
    "model3.compile(loss='binary_crossentropy', optimizer=Adam(lr=0.0001), \n",
    "              metrics=['accuracy', tf.keras.metrics.Precision(name='precision'),\n",
    "                       tf.keras.metrics.Recall(name='recall')])\n",
    "\n",
    "print(model3.summary())"
   ]
  },
  {
   "cell_type": "code",
   "execution_count": 95,
   "id": "18c1c82b",
   "metadata": {},
   "outputs": [
    {
     "name": "stdout",
     "output_type": "stream",
     "text": [
      "Epoch 1/5\n",
      "625/625 [==============================] - 87s 131ms/step - loss: 0.6537 - accuracy: 0.6410 - precision: 0.7230 - recall: 0.4575 - val_loss: 0.5753 - val_accuracy: 0.7053 - val_precision: 0.7384 - val_recall: 0.6348\n",
      "Epoch 2/5\n",
      "625/625 [==============================] - 70s 112ms/step - loss: 0.5672 - accuracy: 0.7199 - precision: 0.7302 - recall: 0.6935 - val_loss: 0.5516 - val_accuracy: 0.7230 - val_precision: 0.7467 - val_recall: 0.6740\n",
      "Epoch 3/5\n",
      "625/625 [==============================] - 67s 108ms/step - loss: 0.5352 - accuracy: 0.7430 - precision: 0.7583 - recall: 0.7158 - val_loss: 0.5410 - val_accuracy: 0.7333 - val_precision: 0.7354 - val_recall: 0.7279\n",
      "Epoch 4/5\n",
      "625/625 [==============================] - 69s 110ms/step - loss: 0.5096 - accuracy: 0.7602 - precision: 0.7743 - recall: 0.7373 - val_loss: 0.5396 - val_accuracy: 0.7381 - val_precision: 0.7488 - val_recall: 0.7157\n",
      "Epoch 5/5\n",
      "625/625 [==============================] - 69s 110ms/step - loss: 0.4925 - accuracy: 0.7743 - precision: 0.7871 - recall: 0.7547 - val_loss: 0.5413 - val_accuracy: 0.7324 - val_precision: 0.7570 - val_recall: 0.6836\n"
     ]
    }
   ],
   "source": [
    "# train on sample of 50k\n",
    "\n",
    "history_sample_3 = model3.fit(sample_X_train_balanced, sample_y_train_balanced, \n",
    "                    epochs=4, \n",
    "                    batch_size=64,\n",
    "                    validation_split=0.2,\n",
    "                    verbose = 1,\n",
    "                    callbacks=[EarlyStopping(monitor='val_loss', patience=3, min_delta=0.0001)])"
   ]
  },
  {
   "cell_type": "code",
   "execution_count": 100,
   "id": "c67eb2f9",
   "metadata": {},
   "outputs": [
    {
     "name": "stdout",
     "output_type": "stream",
     "text": [
      "Epoch 1/4\n",
      "6824/6824 [==============================] - 905s 132ms/step - loss: 0.5734 - accuracy: 0.7035 - precision: 0.7262 - recall: 0.6496 - val_loss: 0.5228 - val_accuracy: 0.7441 - val_precision: 0.7306 - val_recall: 0.7738\n",
      "Epoch 2/4\n",
      "6824/6824 [==============================] - 880s 129ms/step - loss: 0.5175 - accuracy: 0.7477 - precision: 0.7536 - recall: 0.7372 - val_loss: 0.5163 - val_accuracy: 0.7458 - val_precision: 0.7388 - val_recall: 0.7609\n",
      "Epoch 3/4\n",
      "6824/6824 [==============================] - 870s 128ms/step - loss: 0.5075 - accuracy: 0.7533 - precision: 0.7527 - recall: 0.7544 - val_loss: 0.5127 - val_accuracy: 0.7488 - val_precision: 0.7509 - val_recall: 0.7449\n",
      "Epoch 4/4\n",
      "6824/6824 [==============================] - 873s 128ms/step - loss: 0.5031 - accuracy: 0.7558 - precision: 0.7561 - recall: 0.7551 - val_loss: 0.5146 - val_accuracy: 0.7490 - val_precision: 0.7347 - val_recall: 0.7797\n"
     ]
    }
   ],
   "source": [
    "# make sure to reinstantiate model\n",
    "\n",
    "history3 = model3.fit(X_train_balanced, y_train_balanced, \n",
    "                    epochs=4, \n",
    "                    batch_size=64,\n",
    "                    validation_split=0.2,\n",
    "                    verbose = 1,\n",
    "                    callbacks=[EarlyStopping(monitor='val_loss', patience=3, min_delta=0.0001)])"
   ]
  },
  {
   "cell_type": "code",
   "execution_count": 107,
   "id": "e3e252e8",
   "metadata": {},
   "outputs": [],
   "source": [
    "# save model\n",
    "model3.save('BiLSTM.h5')"
   ]
  },
  {
   "cell_type": "code",
   "execution_count": 124,
   "id": "c6792b32",
   "metadata": {},
   "outputs": [],
   "source": [
    "# save history\n",
    "\n",
    "hist3_df = pd.DataFrame(history3.history)\n",
    "\n",
    "hist3 = 'history3.csv'\n",
    "with open(hist3, mode='w') as f:\n",
    "    hist3_df.to_csv(f)"
   ]
  },
  {
   "cell_type": "code",
   "execution_count": 105,
   "id": "f101b222",
   "metadata": {},
   "outputs": [
    {
     "name": "stdout",
     "output_type": "stream",
     "text": [
      "53972/53972 [==============================] - 1112s 21ms/step - loss: 0.5525 - accuracy: 0.7223 - precision: 0.1015 - recall: 0.7720\n"
     ]
    }
   ],
   "source": [
    "# evalute model\n",
    "\n",
    "scores3 = model3.evaluate(X_test, y_test)"
   ]
  },
  {
   "cell_type": "code",
   "execution_count": 106,
   "id": "54d3d84f",
   "metadata": {},
   "outputs": [
    {
     "name": "stdout",
     "output_type": "stream",
     "text": [
      "Test set\n",
      "  Loss: 0.5525\n",
      "  Accuracy: 0.7223\n",
      "  Precision: 0.1015\n",
      "  Recall: 0.7720\n"
     ]
    }
   ],
   "source": [
    "print('Test set\\n  Loss: {:0.4f}\\n  Accuracy: {:0.4f}\\n  Precision: {:0.4}\\n  Recall: {:0.4f}'.format(scores3[0],scores3[1], scores3[2], scores3[3]))"
   ]
  },
  {
   "cell_type": "code",
   "execution_count": 102,
   "id": "7cab5872",
   "metadata": {},
   "outputs": [
    {
     "data": {
      "text/plain": [
       "<matplotlib.legend.Legend at 0x7fe9376889a0>"
      ]
     },
     "execution_count": 102,
     "metadata": {},
     "output_type": "execute_result"
    },
    {
     "data": {
      "image/png": "[encoded data removed]",
      "text/plain": [
       "<Figure size 432x288 with 1 Axes>"
      ]
     },
     "metadata": {},
     "output_type": "display_data"
    }
   ],
   "source": [
    "# plot loss\n",
    "\n",
    "plt.title('Loss')\n",
    "plt.plot(history3.history['loss'], label='train')\n",
    "plt.plot(history3.history['val_loss'], label='test')\n",
    "plt.ylabel('loss')\n",
    "plt.xlabel('epoch')\n",
    "plt.legend()\n",
    "#plt.show();\n",
    "#plt.savefig('imgs/BiLSTM_loss', bbox_inches='tight')"
   ]
  },
  {
   "cell_type": "code",
   "execution_count": 103,
   "id": "9da96ff8",
   "metadata": {},
   "outputs": [
    {
     "data": {
      "text/plain": [
       "<matplotlib.legend.Legend at 0x7fe937295280>"
      ]
     },
     "execution_count": 103,
     "metadata": {},
     "output_type": "execute_result"
    },
    {
     "data": {
      "image/png": "[encoded data removed]",
      "text/plain": [
       "<Figure size 432x288 with 1 Axes>"
      ]
     },
     "metadata": {},
     "output_type": "display_data"
    }
   ],
   "source": [
    "# plot precision\n",
    "\n",
    "plt.title('Precision')\n",
    "plt.plot(history3.history['precision'], label='train')\n",
    "plt.plot(history3.history['val_precision'], label='test')\n",
    "plt.ylabel('precision')\n",
    "plt.xlabel('epoch')\n",
    "plt.legend()\n",
    "#plt.show();\n",
    "#plt.savefig('imgs/BiLSTM_precision', bbox_inches='tight')"
   ]
  },
  {
   "cell_type": "code",
   "execution_count": 104,
   "id": "13c4f698",
   "metadata": {},
   "outputs": [
    {
     "data": {
      "text/plain": [
       "<matplotlib.legend.Legend at 0x7fe9374097c0>"
      ]
     },
     "execution_count": 104,
     "metadata": {},
     "output_type": "execute_result"
    },
    {
     "data": {
      "image/png": "[encoded data removed]",
      "text/plain": [
       "<Figure size 432x288 with 1 Axes>"
      ]
     },
     "metadata": {},
     "output_type": "display_data"
    }
   ],
   "source": [
    "# plot recall\n",
    "\n",
    "plt.title('Recall')\n",
    "plt.plot(history3.history['recall'], label='train')\n",
    "plt.plot(history3.history['val_recall'], label='test')\n",
    "plt.ylabel('precision')\n",
    "plt.xlabel('epoch')\n",
    "plt.legend()\n",
    "#plt.show();\n",
    "#plt.savefig('imgs/BiLSTM_precision', bbox_inches='tight')"
   ]
  },
  {
   "cell_type": "code",
   "execution_count": null,
   "id": "a22cd53f",
   "metadata": {},
   "outputs": [],
   "source": [
    "# confusion matrix\n",
    "\n",
    "confusion_matrix(y_test, y_pred)\n",
    "# true positive, false negative\n",
    "# false positive, true negative"
   ]
  },
  {
   "cell_type": "code",
   "execution_count": null,
   "id": "c6246173",
   "metadata": {},
   "outputs": [],
   "source": [
    "## to recreate these models using classes:\n",
    "\n"
   ]
  },
  {
   "cell_type": "code",
   "execution_count": null,
   "id": "4f363d00",
   "metadata": {},
   "outputs": [],
   "source": []
  }
 ],
 "metadata": {
  "kernelspec": {
   "display_name": "Python 3",
   "language": "python",
   "name": "python3"
  }
 },
 "nbformat": 4,
 "nbformat_minor": 5
}
